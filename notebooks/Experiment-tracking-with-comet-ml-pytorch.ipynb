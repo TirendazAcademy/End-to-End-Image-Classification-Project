{
 "cells": [
  {
   "cell_type": "markdown",
   "id": "89c58477",
   "metadata": {
    "papermill": {
     "duration": 0.011776,
     "end_time": "2023-01-31T17:24:37.341748",
     "exception": false,
     "start_time": "2023-01-31T17:24:37.329972",
     "status": "completed"
    },
    "tags": []
   },
   "source": [
    "# <p style=\"background-color:coral;font-family:newtimeroman;font-size:150%;color:white;text-align:center;border-radius:20px 20px;\"><b>Intro to MLOps: Experiment Tracking with Comet ML & Pytorch</b></p>\n",
    "\n",
    "![](https://github.com/TirendazAcademy/End-to-End-Deep-Learning-Projects/blob/main/image_classification_pytorch_comet/Images/images/dog-cat.png?raw=true)\n",
    "\n",
    "\n",
    "This notebook walks you through how to build a CNN model for image classification with PyTorch and track an experiment with Comet.\n",
    "\n",
    "<b>Table of contents:</b>\n",
    "<ul>\n",
    "<li><a href=\"#Introduction\">Introduction</a></li>  \n",
    "<li><a href=\"#Understanding\">Understanding the dataset</a></li>         \n",
    "<li><a href=\"#Loading-image-data\">Loading image data</a></li>\n",
    "<li><a href=\"#Building\">Model building</a></li>\n",
    "<li><a href=\"#Prediction\">Make a prediction</a></li>\n",
    "<li><a href=\"#Conclusion\">Conclusion</a></li>\n",
    "</ul>\n",
    "\n",
    "Let's dive in!"
   ]
  },
  {
   "cell_type": "markdown",
   "id": "c8cae4c2",
   "metadata": {
    "id": "SdTJCw2kEYOW",
    "papermill": {
     "duration": 0.010364,
     "end_time": "2023-01-31T17:24:37.362711",
     "exception": false,
     "start_time": "2023-01-31T17:24:37.352347",
     "status": "completed"
    },
    "tags": []
   },
   "source": [
    "<a id=\"Introduction\"></a>\n",
    "# <p style=\"background-color:coral;font-family:newtimeroman;font-size:150%;color:white;text-align:center;border-radius:20px 20px;\"><b>1. Introduction</b></p>\n",
    "\n",
    "Before I start the analysis, let me explain what Pytorch and Comet are.\n",
    "\n",
    "## What is Pytorch?\n",
    "\n",
    "![](https://github.com/TirendazAcademy/End-to-End-Deep-Learning-Projects/blob/main/image_classification_pytorch_comet/Images/images/pytroch_features.png?raw=true)\n",
    "\n",
    "PyTorch is a machine learning framework based on the Torch library, used for applications such as computer vision and NLP. PyTorch is a great choice for deep learning projects because of its flexibility, ease of use, and strong community support.\n",
    "\n",
    "## What is Comet ML?\n",
    "\n",
    "![](https://github.com/TirendazAcademy/Comet-ML-Tutorials/blob/main/Images/comet-ml.png?raw=true)\n",
    "\n",
    "Comet ML is a platform that allows developers and data scientists to track, compare, and optimize their machine learning experiments. It provides a simple interface to log code, metrics, and artifacts, and allows users to collaborate and share their work with others.\n",
    "\n",
    "Now, let's start an experiment with the Comet API key and log the hyperparameters we'll use for deep learning architecture. To do this, I'm going to use kaggle secret feature first as shown below:"
   ]
  },
  {
   "cell_type": "code",
   "execution_count": 1,
   "id": "e722f99e",
   "metadata": {
    "execution": {
     "iopub.execute_input": "2023-01-31T17:24:37.389121Z",
     "iopub.status.busy": "2023-01-31T17:24:37.387857Z",
     "iopub.status.idle": "2023-01-31T17:24:54.274511Z",
     "shell.execute_reply": "2023-01-31T17:24:54.273144Z"
    },
    "papermill": {
     "duration": 16.904144,
     "end_time": "2023-01-31T17:24:54.277779",
     "exception": false,
     "start_time": "2023-01-31T17:24:37.373635",
     "status": "completed"
    },
    "tags": []
   },
   "outputs": [
    {
     "name": "stdout",
     "output_type": "stream",
     "text": [
      "Collecting comet_ml\r\n",
      "  Downloading comet_ml-3.32.0-py3-none-any.whl (462 kB)\r\n",
      "\u001b[2K     \u001b[90m━━━━━━━━━━━━━━━━━━━━━━━━━━━━━━━━━━━━━━━\u001b[0m \u001b[32m462.7/462.7 kB\u001b[0m \u001b[31m4.9 MB/s\u001b[0m eta \u001b[36m0:00:00\u001b[0m\r\n",
      "\u001b[?25hRequirement already satisfied: wrapt>=1.11.2 in /opt/conda/lib/python3.7/site-packages (from comet_ml) (1.12.1)\r\n",
      "Collecting everett[ini]>=1.0.1\r\n",
      "  Downloading everett-3.1.0-py2.py3-none-any.whl (35 kB)\r\n",
      "Requirement already satisfied: six in /opt/conda/lib/python3.7/site-packages (from comet_ml) (1.15.0)\r\n",
      "Requirement already satisfied: requests>=2.18.4 in /opt/conda/lib/python3.7/site-packages (from comet_ml) (2.28.1)\r\n",
      "Collecting python-box<7.0.0\r\n",
      "  Downloading python_box-6.1.0-cp37-cp37m-manylinux_2_17_x86_64.manylinux2014_x86_64.whl (3.0 MB)\r\n",
      "\u001b[2K     \u001b[90m━━━━━━━━━━━━━━━━━━━━━━━━━━━━━━━━━━━━━━━━\u001b[0m \u001b[32m3.0/3.0 MB\u001b[0m \u001b[31m34.6 MB/s\u001b[0m eta \u001b[36m0:00:00\u001b[0m\r\n",
      "\u001b[?25hRequirement already satisfied: websocket-client<1.4.0,>=0.55.0 in /opt/conda/lib/python3.7/site-packages (from comet_ml) (1.3.3)\r\n",
      "Requirement already satisfied: sentry-sdk>=1.1.0 in /opt/conda/lib/python3.7/site-packages (from comet_ml) (1.13.0)\r\n",
      "Collecting semantic-version>=2.8.0\r\n",
      "  Downloading semantic_version-2.10.0-py2.py3-none-any.whl (15 kB)\r\n",
      "Collecting dulwich!=0.20.33,>=0.20.6\r\n",
      "  Downloading dulwich-0.21.2-cp37-cp37m-manylinux_2_17_x86_64.manylinux2014_x86_64.whl (504 kB)\r\n",
      "\u001b[2K     \u001b[90m━━━━━━━━━━━━━━━━━━━━━━━━━━━━━━━━━━━━━━\u001b[0m \u001b[32m504.4/504.4 kB\u001b[0m \u001b[31m35.2 MB/s\u001b[0m eta \u001b[36m0:00:00\u001b[0m\r\n",
      "\u001b[?25hRequirement already satisfied: jsonschema!=3.1.0,>=2.6.0 in /opt/conda/lib/python3.7/site-packages (from comet_ml) (4.6.1)\r\n",
      "Collecting requests-toolbelt>=0.8.0\r\n",
      "  Downloading requests_toolbelt-0.10.1-py2.py3-none-any.whl (54 kB)\r\n",
      "\u001b[2K     \u001b[90m━━━━━━━━━━━━━━━━━━━━━━━━━━━━━━━━━━━━━━━━\u001b[0m \u001b[32m54.5/54.5 kB\u001b[0m \u001b[31m4.9 MB/s\u001b[0m eta \u001b[36m0:00:00\u001b[0m\r\n",
      "\u001b[?25hRequirement already satisfied: simplejson in /opt/conda/lib/python3.7/site-packages (from comet_ml) (3.18.1)\r\n",
      "Requirement already satisfied: importlib-metadata in /opt/conda/lib/python3.7/site-packages (from comet_ml) (6.0.0)\r\n",
      "Collecting wurlitzer>=1.0.2\r\n",
      "  Downloading wurlitzer-3.0.3-py3-none-any.whl (7.3 kB)\r\n",
      "Requirement already satisfied: urllib3>=1.25 in /opt/conda/lib/python3.7/site-packages (from dulwich!=0.20.33,>=0.20.6->comet_ml) (1.26.14)\r\n",
      "Requirement already satisfied: typing-extensions in /opt/conda/lib/python3.7/site-packages (from dulwich!=0.20.33,>=0.20.6->comet_ml) (4.1.1)\r\n",
      "Collecting configobj\r\n",
      "  Downloading configobj-5.0.8-py2.py3-none-any.whl (36 kB)\r\n",
      "Requirement already satisfied: importlib-resources>=1.4.0 in /opt/conda/lib/python3.7/site-packages (from jsonschema!=3.1.0,>=2.6.0->comet_ml) (5.10.2)\r\n",
      "Requirement already satisfied: pyrsistent!=0.17.0,!=0.17.1,!=0.17.2,>=0.14.0 in /opt/conda/lib/python3.7/site-packages (from jsonschema!=3.1.0,>=2.6.0->comet_ml) (0.18.1)\r\n",
      "Requirement already satisfied: attrs>=17.4.0 in /opt/conda/lib/python3.7/site-packages (from jsonschema!=3.1.0,>=2.6.0->comet_ml) (21.4.0)\r\n",
      "Requirement already satisfied: idna<4,>=2.5 in /opt/conda/lib/python3.7/site-packages (from requests>=2.18.4->comet_ml) (3.3)\r\n",
      "Requirement already satisfied: certifi>=2017.4.17 in /opt/conda/lib/python3.7/site-packages (from requests>=2.18.4->comet_ml) (2022.12.7)\r\n",
      "Requirement already satisfied: charset-normalizer<3,>=2 in /opt/conda/lib/python3.7/site-packages (from requests>=2.18.4->comet_ml) (2.1.0)\r\n",
      "Requirement already satisfied: zipp>=0.5 in /opt/conda/lib/python3.7/site-packages (from importlib-metadata->comet_ml) (3.8.0)\r\n",
      "Installing collected packages: everett, wurlitzer, semantic-version, python-box, dulwich, configobj, requests-toolbelt, comet_ml\r\n",
      "Successfully installed comet_ml-3.32.0 configobj-5.0.8 dulwich-0.21.2 everett-3.1.0 python-box-6.1.0 requests-toolbelt-0.10.1 semantic-version-2.10.0 wurlitzer-3.0.3\r\n",
      "\u001b[33mWARNING: Running pip as the 'root' user can result in broken permissions and conflicting behaviour with the system package manager. It is recommended to use a virtual environment instead: https://pip.pypa.io/warnings/venv\u001b[0m\u001b[33m\r\n",
      "\u001b[0m"
     ]
    },
    {
     "name": "stderr",
     "output_type": "stream",
     "text": [
      "COMET WARNING: As you are running in a Jupyter environment, you will need to call `experiment.end()` when finished to ensure all metrics and code are logged before exiting.\n",
      "COMET INFO: Couldn't find a Git repository in '/kaggle/working' nor in any parent directory. You can override where Comet is looking for a Git Patch by setting the configuration `COMET_GIT_DIRECTORY`\n",
      "COMET INFO: Experiment is live on comet.com https://www.comet.com/tirendaz-academy/experiment-tracking/90544383c2e6489094457ab9aac4afb9\n",
      "\n"
     ]
    }
   ],
   "source": [
    "# Setup user secrets for login\n",
    "from kaggle_secrets import UserSecretsClient\n",
    "user_secrets = UserSecretsClient()\n",
    "my_api_key = user_secrets.get_secret(\"COMET_API_KEY\")\n",
    "\n",
    "\n",
    "#Install comet_ml\n",
    "!pip install comet_ml\n",
    "\n",
    "# import comet_ml at the top of your file\n",
    "import comet_ml\n",
    "from comet_ml import Experiment\n",
    "\n",
    "## Create an experiment with your API key\n",
    "experiment = Experiment(\n",
    "    api_key= my_api_key,\n",
    "    workspace=\"tirendaz-academy\",\n",
    "    project_name=\"experiment-tracking\")\n",
    "\n",
    "# Setting hyperparameters\n",
    "hyper_params = {\"seed\": 42, \"batch_size\": 32, \"num_epochs\": 20, \"learning_rate\": 1e-3,\"image_size\": 224}\n",
    "experiment.log_parameters(hyper_params)"
   ]
  },
  {
   "cell_type": "markdown",
   "id": "116bcea1",
   "metadata": {
    "papermill": {
     "duration": 0.018763,
     "end_time": "2023-01-31T17:24:54.316005",
     "exception": false,
     "start_time": "2023-01-31T17:24:54.297242",
     "status": "completed"
    },
    "tags": []
   },
   "source": [
    "Let's take a look at the version of the torch and check if Cuda exists."
   ]
  },
  {
   "cell_type": "code",
   "execution_count": 2,
   "id": "9f95e1e7",
   "metadata": {
    "execution": {
     "iopub.execute_input": "2023-01-31T17:24:54.357490Z",
     "iopub.status.busy": "2023-01-31T17:24:54.356983Z",
     "iopub.status.idle": "2023-01-31T17:24:56.652401Z",
     "shell.execute_reply": "2023-01-31T17:24:56.651186Z"
    },
    "id": "opMaq45sNwic",
    "outputId": "3f1c70ff-d143-4a2d-90d3-57e2a2a2810b",
    "papermill": {
     "duration": 2.319388,
     "end_time": "2023-01-31T17:24:56.655034",
     "exception": false,
     "start_time": "2023-01-31T17:24:54.335646",
     "status": "completed"
    },
    "tags": []
   },
   "outputs": [
    {
     "name": "stdout",
     "output_type": "stream",
     "text": [
      "The version of torch: 1.11.0\n",
      "The type of devise:  cuda\n"
     ]
    }
   ],
   "source": [
    "import torch\n",
    "from torch import nn\n",
    "\n",
    "# Make sure: torch >= 1.10.0\n",
    "print(\"The version of torch:\", torch.__version__)\n",
    "\n",
    "# Setting device\n",
    "device = \"cuda\" if torch.cuda.is_available() else \"cpu\"\n",
    "print(\"The type of devise: \",device)"
   ]
  },
  {
   "cell_type": "markdown",
   "id": "35b2b94e",
   "metadata": {
    "papermill": {
     "duration": 0.018089,
     "end_time": "2023-01-31T17:24:56.690504",
     "exception": false,
     "start_time": "2023-01-31T17:24:56.672415",
     "status": "completed"
    },
    "tags": []
   },
   "source": [
    "The dataset we will use for this tutorial is the cat and dog dataset, which contains images of cats and dogs. Let's take a look at the files in the dataset folder. To do this, let me create a function. "
   ]
  },
  {
   "cell_type": "code",
   "execution_count": 3,
   "id": "d00e22b3",
   "metadata": {
    "execution": {
     "iopub.execute_input": "2023-01-31T17:24:56.725771Z",
     "iopub.status.busy": "2023-01-31T17:24:56.724892Z",
     "iopub.status.idle": "2023-01-31T17:24:59.080267Z",
     "shell.execute_reply": "2023-01-31T17:24:59.078500Z"
    },
    "id": "x-i9_Ss89RiS",
    "papermill": {
     "duration": 2.376157,
     "end_time": "2023-01-31T17:24:59.083531",
     "exception": false,
     "start_time": "2023-01-31T17:24:56.707374",
     "status": "completed"
    },
    "tags": []
   },
   "outputs": [
    {
     "name": "stdout",
     "output_type": "stream",
     "text": [
      "There are 2 directories and 0 images in '/kaggle/input/cat-and-dog'.\n",
      "There are 1 directories and 0 images in '/kaggle/input/cat-and-dog/test_set'.\n",
      "There are 2 directories and 0 images in '/kaggle/input/cat-and-dog/test_set/test_set'.\n",
      "There are 0 directories and 1013 images in '/kaggle/input/cat-and-dog/test_set/test_set/dogs'.\n",
      "There are 0 directories and 1012 images in '/kaggle/input/cat-and-dog/test_set/test_set/cats'.\n",
      "There are 1 directories and 0 images in '/kaggle/input/cat-and-dog/training_set'.\n",
      "There are 2 directories and 0 images in '/kaggle/input/cat-and-dog/training_set/training_set'.\n",
      "There are 0 directories and 4006 images in '/kaggle/input/cat-and-dog/training_set/training_set/dogs'.\n",
      "There are 0 directories and 4001 images in '/kaggle/input/cat-and-dog/training_set/training_set/cats'.\n"
     ]
    }
   ],
   "source": [
    "# Looking inside files\n",
    "import os\n",
    "def walk_through_dir(dir_path):\n",
    "  for dirpath, dirnames, filenames in os.walk(dir_path):\n",
    "    print(f\"There are {len(dirnames)} directories and {len(filenames)} images in '{dirpath}'.\")\n",
    "    \n",
    "image_path = \"/kaggle/input/cat-and-dog\"\n",
    "walk_through_dir(image_path)"
   ]
  },
  {
   "cell_type": "markdown",
   "id": "313e8d1f",
   "metadata": {
    "papermill": {
     "duration": 0.01746,
     "end_time": "2023-01-31T17:24:59.119774",
     "exception": false,
     "start_time": "2023-01-31T17:24:59.102314",
     "status": "completed"
    },
    "tags": []
   },
   "source": [
    "Nice! We saw the files in the dataset folder. Now let's create train and testing paths:"
   ]
  },
  {
   "cell_type": "code",
   "execution_count": 4,
   "id": "5069e9a0",
   "metadata": {
    "execution": {
     "iopub.execute_input": "2023-01-31T17:24:59.157977Z",
     "iopub.status.busy": "2023-01-31T17:24:59.157416Z",
     "iopub.status.idle": "2023-01-31T17:24:59.172240Z",
     "shell.execute_reply": "2023-01-31T17:24:59.171255Z"
    },
    "id": "tCxPmTcQ-BL4",
    "outputId": "a8ca6a26-a01a-4392-8497-44530470080e",
    "papermill": {
     "duration": 0.037382,
     "end_time": "2023-01-31T17:24:59.175089",
     "exception": false,
     "start_time": "2023-01-31T17:24:59.137707",
     "status": "completed"
    },
    "tags": []
   },
   "outputs": [
    {
     "data": {
      "text/plain": [
       "('/kaggle/input/cat-and-dog/training_set/training_set',\n",
       " '/kaggle/input/cat-and-dog/test_set/test_set')"
      ]
     },
     "execution_count": 4,
     "metadata": {},
     "output_type": "execute_result"
    }
   ],
   "source": [
    "# Creating our paths\n",
    "my_train_dir = \"/kaggle/input/cat-and-dog/training_set/training_set\"\n",
    "my_test_dir = \"/kaggle/input/cat-and-dog/test_set/test_set\"\n",
    "my_train_dir, my_test_dir"
   ]
  },
  {
   "cell_type": "markdown",
   "id": "da36fbfd",
   "metadata": {
    "papermill": {
     "duration": 0.017854,
     "end_time": "2023-01-31T17:24:59.210678",
     "exception": false,
     "start_time": "2023-01-31T17:24:59.192824",
     "status": "completed"
    },
    "tags": []
   },
   "source": [
    "<a id=\"Understanding\"></a>\n",
    "# <p style=\"background-color:coral;font-family:newtimeroman;font-size:150%;color:white;text-align:center;border-radius:20px 20px;\"><b>2. Understanding the Dataset</b></p>\n",
    "\n",
    "It is important to understand the dataset for deep learning analysis because the dataset is the foundation of any machine learning or deep learning model. A deep learning model can only be as good as the data it is trained on, and a poor understanding of the dataset can lead to poor model performance or even bias. Now let's take a look at an image in the dataset. "
   ]
  },
  {
   "cell_type": "code",
   "execution_count": 5,
   "id": "445f5ff2",
   "metadata": {
    "execution": {
     "iopub.execute_input": "2023-01-31T17:24:59.249133Z",
     "iopub.status.busy": "2023-01-31T17:24:59.248681Z",
     "iopub.status.idle": "2023-01-31T17:24:59.361954Z",
     "shell.execute_reply": "2023-01-31T17:24:59.360884Z"
    },
    "id": "Dh5tUEeY-sWk",
    "outputId": "dd5445b2-7fb3-4d66-cef5-8476ad7af591",
    "papermill": {
     "duration": 0.135449,
     "end_time": "2023-01-31T17:24:59.364651",
     "exception": false,
     "start_time": "2023-01-31T17:24:59.229202",
     "status": "completed"
    },
    "tags": []
   },
   "outputs": [
    {
     "name": "stdout",
     "output_type": "stream",
     "text": [
      "Random image path: /kaggle/input/cat-and-dog/test_set/test_set/cats/cat.4202.jpg\n",
      "Image class: cats\n",
      "Image height: 217\n",
      "Image width: 179\n"
     ]
    },
    {
     "data": {
      "image/png": "[encoded data removed]",
      "text/plain": [
       "<PIL.JpegImagePlugin.JpegImageFile image mode=RGB size=179x217>"
      ]
     },
     "execution_count": 5,
     "metadata": {},
     "output_type": "execute_result"
    }
   ],
   "source": [
    "import random\n",
    "from PIL import Image\n",
    "import glob\n",
    "from pathlib import Path\n",
    "\n",
    "# Setting seed\n",
    "random.seed(hyper_params[\"seed\"]) \n",
    "\n",
    "# Creating our image path\n",
    "image_path= glob.glob(f\"{image_path}/*/*/*/*.jpg\")\n",
    "\n",
    "# Getting random a path\n",
    "random_image_path = random.choice(image_path)\n",
    "\n",
    "# Creating a variable for the path \n",
    "image_class = Path(random_image_path).parent.stem\n",
    "\n",
    "# Let's open the image\n",
    "image = Image.open(random_image_path)\n",
    "\n",
    "# Let's print our metadata\n",
    "print(\"Random image path: {}\".format(random_image_path))\n",
    "print(\"Image class: {}\".format(image_class))\n",
    "print(\"Image height: {}\".format(image.height)) \n",
    "print(\"Image width: {}\".format(image.width))\n",
    "image"
   ]
  },
  {
   "cell_type": "markdown",
   "id": "b5e82334",
   "metadata": {
    "papermill": {
     "duration": 0.020293,
     "end_time": "2023-01-31T17:24:59.406181",
     "exception": false,
     "start_time": "2023-01-31T17:24:59.385888",
     "status": "completed"
    },
    "tags": []
   },
   "source": [
    "Beautiful cute cat isn't it? I love cats. So can't we use matplotlib for data visualization? Definitely yes. Let me show you."
   ]
  },
  {
   "cell_type": "code",
   "execution_count": 6,
   "id": "e9e35053",
   "metadata": {
    "execution": {
     "iopub.execute_input": "2023-01-31T17:24:59.447932Z",
     "iopub.status.busy": "2023-01-31T17:24:59.447464Z",
     "iopub.status.idle": "2023-01-31T17:25:01.139910Z",
     "shell.execute_reply": "2023-01-31T17:25:01.138727Z"
    },
    "id": "9yiV3Z_RDkAI",
    "outputId": "6119a3ff-5ba9-42ef-b7b1-305d80eb8e95",
    "papermill": {
     "duration": 1.718994,
     "end_time": "2023-01-31T17:25:01.145325",
     "exception": false,
     "start_time": "2023-01-31T17:24:59.426331",
     "status": "completed"
    },
    "tags": []
   },
   "outputs": [
    {
     "data": {
      "image/png": "[encoded data removed]",
      "text/plain": [
       "<Figure size 576x432 with 1 Axes>"
      ]
     },
     "metadata": {},
     "output_type": "display_data"
    }
   ],
   "source": [
    "import numpy as np\n",
    "import matplotlib.pyplot as plt\n",
    "import seaborn as sns\n",
    "sns.set_theme()\n",
    "\n",
    "# Convert the image to an array\n",
    "img_as_array = np.asarray(image)\n",
    "\n",
    "# Plotting the image with matplotlib\n",
    "plt.figure(figsize=(8, 6))\n",
    "plt.imshow(img_as_array)\n",
    "plt.title(f\"Image class: {image_class} | Image shape: {img_as_array.shape} -> [height, width, color_channels]\")\n",
    "plt.axis(False);"
   ]
  },
  {
   "cell_type": "markdown",
   "id": "0f0aa30d",
   "metadata": {
    "id": "9LrpI_fKGX1H",
    "papermill": {
     "duration": 0.025054,
     "end_time": "2023-01-31T17:25:01.201273",
     "exception": false,
     "start_time": "2023-01-31T17:25:01.176219",
     "status": "completed"
    },
    "tags": []
   },
   "source": [
    "<a id=\"Loading-image-data\"></a>\n",
    "# <p style=\"background-color:coral;font-family:newtimeroman;font-size:150%;color:white;text-align:center;border-radius:20px 20px;\"><b>3. Loading Image Data</b></p>\n",
    "So far, we've taken a look at the dataset. We are ready to load our dataset using this function. The easiest way to load data is to use the `ImageFolder` function in PyTorch. Let's load the dataset with this function. First, we're going to use data augmentation. Data augmentation is a technique used to artificially increase the size of a dataset by applying random modifications to the existing data. "
   ]
  },
  {
   "cell_type": "code",
   "execution_count": 7,
   "id": "f63d2557",
   "metadata": {
    "execution": {
     "iopub.execute_input": "2023-01-31T17:25:01.253615Z",
     "iopub.status.busy": "2023-01-31T17:25:01.253082Z",
     "iopub.status.idle": "2023-01-31T17:25:01.544188Z",
     "shell.execute_reply": "2023-01-31T17:25:01.542954Z"
    },
    "id": "RY-UzszvKrKW",
    "papermill": {
     "duration": 0.321786,
     "end_time": "2023-01-31T17:25:01.547729",
     "exception": false,
     "start_time": "2023-01-31T17:25:01.225943",
     "status": "completed"
    },
    "tags": []
   },
   "outputs": [],
   "source": [
    "from torchvision import transforms\n",
    "\n",
    "# Setting our image size\n",
    "IMAGE_SIZE=(hyper_params[\"image_size\"], hyper_params[\"image_size\"])\n",
    "\n",
    "# Creating a transform for training using TrivialAugment\n",
    "my_train_transform = transforms.Compose([\n",
    "    transforms.Resize(IMAGE_SIZE),\n",
    "    transforms.TrivialAugmentWide(),\n",
    "    transforms.ToTensor()])\n",
    "\n",
    "# Creating a transform for testing \n",
    "my_test_transform = transforms.Compose([\n",
    "    transforms.Resize(IMAGE_SIZE),\n",
    "    transforms.ToTensor()])"
   ]
  },
  {
   "cell_type": "markdown",
   "id": "102940fb",
   "metadata": {
    "papermill": {
     "duration": 0.022201,
     "end_time": "2023-01-31T17:25:01.592799",
     "exception": false,
     "start_time": "2023-01-31T17:25:01.570598",
     "status": "completed"
    },
    "tags": []
   },
   "source": [
    "Let's load images from train and test folders into a PyTorch dataset with the `ImageFolder` function."
   ]
  },
  {
   "cell_type": "code",
   "execution_count": 8,
   "id": "c555f37f",
   "metadata": {
    "execution": {
     "iopub.execute_input": "2023-01-31T17:25:01.638935Z",
     "iopub.status.busy": "2023-01-31T17:25:01.638434Z",
     "iopub.status.idle": "2023-01-31T17:25:03.030605Z",
     "shell.execute_reply": "2023-01-31T17:25:03.029353Z"
    },
    "id": "mIdSIQORLd14",
    "outputId": "776dbcf3-57cc-4419-b95e-5a767a826ec2",
    "papermill": {
     "duration": 1.418481,
     "end_time": "2023-01-31T17:25:03.033508",
     "exception": false,
     "start_time": "2023-01-31T17:25:01.615027",
     "status": "completed"
    },
    "tags": []
   },
   "outputs": [
    {
     "data": {
      "text/plain": [
       "(Dataset ImageFolder\n",
       "     Number of datapoints: 8005\n",
       "     Root location: /kaggle/input/cat-and-dog/training_set/training_set\n",
       "     StandardTransform\n",
       " Transform: Compose(\n",
       "                Resize(size=(224, 224), interpolation=bilinear, max_size=None, antialias=None)\n",
       "                TrivialAugmentWide(num_magnitude_bins=31, interpolation=InterpolationMode.NEAREST, fill=None)\n",
       "                ToTensor()\n",
       "            ),\n",
       " Dataset ImageFolder\n",
       "     Number of datapoints: 2023\n",
       "     Root location: /kaggle/input/cat-and-dog/test_set/test_set\n",
       "     StandardTransform\n",
       " Transform: Compose(\n",
       "                Resize(size=(224, 224), interpolation=bilinear, max_size=None, antialias=None)\n",
       "                ToTensor()\n",
       "            ))"
      ]
     },
     "execution_count": 8,
     "metadata": {},
     "output_type": "execute_result"
    }
   ],
   "source": [
    "# Converting our image folders ito Datasets\n",
    "from torchvision import datasets\n",
    "\n",
    "# Converting our image folders ito Datasets\n",
    "my_train_data = datasets.ImageFolder(my_train_dir, transform=my_train_transform)\n",
    "my_test_data = datasets.ImageFolder(my_test_dir, transform=my_test_transform)\n",
    "\n",
    "my_train_data, my_test_data"
   ]
  },
  {
   "cell_type": "markdown",
   "id": "c50977b6",
   "metadata": {
    "papermill": {
     "duration": 0.02284,
     "end_time": "2023-01-31T17:25:03.079538",
     "exception": false,
     "start_time": "2023-01-31T17:25:03.056698",
     "status": "completed"
    },
    "tags": []
   },
   "source": [
    "Now let's turn Datasets into DataLoader's."
   ]
  },
  {
   "cell_type": "code",
   "execution_count": 9,
   "id": "cdc593f4",
   "metadata": {
    "execution": {
     "iopub.execute_input": "2023-01-31T17:25:03.124201Z",
     "iopub.status.busy": "2023-01-31T17:25:03.123788Z",
     "iopub.status.idle": "2023-01-31T17:25:03.139414Z",
     "shell.execute_reply": "2023-01-31T17:25:03.138575Z"
    },
    "id": "O_rQ4PllMe04",
    "outputId": "2a3ffefc-d582-4f28-b33d-2a0c2958db8d",
    "papermill": {
     "duration": 0.040737,
     "end_time": "2023-01-31T17:25:03.142141",
     "exception": false,
     "start_time": "2023-01-31T17:25:03.101404",
     "status": "completed"
    },
    "tags": []
   },
   "outputs": [
    {
     "data": {
      "text/plain": [
       "(<torch.utils.data.dataloader.DataLoader at 0x7f443b067bd0>,\n",
       " <torch.utils.data.dataloader.DataLoader at 0x7f443b067b10>)"
      ]
     },
     "execution_count": 9,
     "metadata": {},
     "output_type": "execute_result"
    }
   ],
   "source": [
    "from torch.utils.data import DataLoader\n",
    "\n",
    "# Setting some parameters\n",
    "torch.manual_seed(hyper_params[\"seed\"])\n",
    "NUM_WORKERS = os.cpu_count()\n",
    "\n",
    "# Creating a training DataLoader\n",
    "my_train_dataloader = DataLoader(my_train_data,\n",
    "                                 batch_size=hyper_params[\"batch_size\"], \n",
    "                                 shuffle=True,\n",
    "                                 num_workers=NUM_WORKERS)\n",
    "\n",
    "# Creating a test DataLoader\n",
    "my_test_dataloader = DataLoader(my_test_data,\n",
    "                               batch_size=hyper_params[\"batch_size\"], \n",
    "                               shuffle=False, \n",
    "                               num_workers=NUM_WORKERS)\n",
    "\n",
    "my_train_dataloader, my_test_dataloader"
   ]
  },
  {
   "cell_type": "markdown",
   "id": "dcc63573",
   "metadata": {
    "papermill": {
     "duration": 0.023776,
     "end_time": "2023-01-31T17:25:03.186759",
     "exception": false,
     "start_time": "2023-01-31T17:25:03.162983",
     "status": "completed"
    },
    "tags": []
   },
   "source": [
    "Nice! We created the `DataLoader` objects. Let's go ahead and build an image classification architecture."
   ]
  },
  {
   "cell_type": "markdown",
   "id": "6ac2bda4",
   "metadata": {
    "id": "cVDWp25FNRM_",
    "papermill": {
     "duration": 0.01572,
     "end_time": "2023-01-31T17:25:03.222238",
     "exception": false,
     "start_time": "2023-01-31T17:25:03.206518",
     "status": "completed"
    },
    "tags": []
   },
   "source": [
    "<a id=\"Building\"></a>\n",
    "# <p style=\"background-color:coral;font-family:newtimeroman;font-size:150%;color:white;text-align:center;border-radius:20px 20px;\"><b>4. Model Building</b></p>\n",
    "\n",
    "To build our model, we're going to use an architecture based on convolutional neural network (CNN). The architecture of a CNN consists of several layers, including convolutional layers, pooling layers, and fully connected layers."
   ]
  },
  {
   "cell_type": "code",
   "execution_count": 10,
   "id": "13ea34b3",
   "metadata": {
    "execution": {
     "iopub.execute_input": "2023-01-31T17:25:03.258732Z",
     "iopub.status.busy": "2023-01-31T17:25:03.258174Z",
     "iopub.status.idle": "2023-01-31T17:25:07.172996Z",
     "shell.execute_reply": "2023-01-31T17:25:07.171740Z"
    },
    "id": "j99yPcDCtnPG",
    "outputId": "45bba9bf-3063-4ab7-c820-8b95a351b6e8",
    "papermill": {
     "duration": 3.936471,
     "end_time": "2023-01-31T17:25:07.175553",
     "exception": false,
     "start_time": "2023-01-31T17:25:03.239082",
     "status": "completed"
    },
    "tags": []
   },
   "outputs": [],
   "source": [
    "# Creating a CNN-based image classifier.\n",
    "class ImageClassifier(nn.Module):\n",
    "    def __init__(self):\n",
    "        super().__init__()\n",
    "        self.conv_layer_1 = nn.Sequential(\n",
    "          nn.Conv2d(3, 64, 3, padding=1),\n",
    "          nn.ReLU(),\n",
    "          nn.BatchNorm2d(64),\n",
    "          nn.MaxPool2d(2))\n",
    "        self.conv_layer_2 = nn.Sequential(\n",
    "          nn.Conv2d(64, 512, 3, padding=1),\n",
    "          nn.ReLU(),\n",
    "          nn.BatchNorm2d(512),\n",
    "          nn.MaxPool2d(2))\n",
    "        self.conv_layer_3 = nn.Sequential(\n",
    "          nn.Conv2d(512, 512, kernel_size=3, padding=1),\n",
    "          nn.ReLU(),\n",
    "          nn.BatchNorm2d(512),\n",
    "          nn.MaxPool2d(2)) \n",
    "        self.classifier = nn.Sequential(\n",
    "          nn.Flatten(),\n",
    "          nn.Linear(in_features=512*3*3, out_features=2))\n",
    "    def forward(self, x: torch.Tensor):\n",
    "        x = self.conv_layer_1(x)\n",
    "        x = self.conv_layer_2(x)\n",
    "        x = self.conv_layer_3(x)\n",
    "        x = self.conv_layer_3(x)\n",
    "        x = self.conv_layer_3(x)\n",
    "        x = self.conv_layer_3(x)\n",
    "        x = self.classifier(x)\n",
    "        return x\n",
    "\n",
    "    # Instantiate an object.\n",
    "my_model = ImageClassifier().to(device)"
   ]
  },
  {
   "cell_type": "markdown",
   "id": "d3a60901",
   "metadata": {
    "id": "C4J-DUNXQbSB",
    "papermill": {
     "duration": 0.022834,
     "end_time": "2023-01-31T17:25:07.228623",
     "exception": false,
     "start_time": "2023-01-31T17:25:07.205789",
     "status": "completed"
    },
    "tags": []
   },
   "source": [
    "Ok, we created a CNN-based model. But does this model work? To understand this, let's pass a image through the model."
   ]
  },
  {
   "cell_type": "code",
   "execution_count": 11,
   "id": "ccc31a13",
   "metadata": {
    "execution": {
     "iopub.execute_input": "2023-01-31T17:25:07.276933Z",
     "iopub.status.busy": "2023-01-31T17:25:07.276385Z",
     "iopub.status.idle": "2023-01-31T17:25:17.304706Z",
     "shell.execute_reply": "2023-01-31T17:25:17.303373Z"
    },
    "id": "W3QEE5CBQa7j",
    "outputId": "2c2fa771-8ca4-4ca9-b643-27318a632e84",
    "papermill": {
     "duration": 10.055358,
     "end_time": "2023-01-31T17:25:17.307879",
     "exception": false,
     "start_time": "2023-01-31T17:25:07.252521",
     "status": "completed"
    },
    "tags": []
   },
   "outputs": [
    {
     "name": "stdout",
     "output_type": "stream",
     "text": [
      "Single image shape: torch.Size([1, 3, 224, 224])\n",
      "\n",
      "Output logits:\n",
      "tensor([[-0.0116, -0.0099]], device='cuda:0')\n",
      "\n",
      "Output prediction probabilities:\n",
      "tensor([[0.4996, 0.5004]], device='cuda:0')\n",
      "\n",
      "Output prediction label:\n",
      "tensor([1], device='cuda:0')\n",
      "\n",
      "Actual label:\n",
      "1\n"
     ]
    }
   ],
   "source": [
    "# Let's get a batch of images and labels \n",
    "img_batch, label_batch = next(iter(my_train_dataloader))\n",
    "\n",
    "# Let's get a single image from the batch and then unsqueeze the image so its shape fits the model\n",
    "img_single, label_single = img_batch[0].unsqueeze(dim=0), label_batch[0]\n",
    "print(f\"Single image shape: {img_single.shape}\\n\")\n",
    "\n",
    "# Let's perform a forward pass on a single image\n",
    "my_model.eval()\n",
    "with torch.inference_mode():\n",
    "    pred = my_model(img_single.to(device))\n",
    "    \n",
    "# Let's print out the results\n",
    "print(f\"Output logits:\\n{pred}\\n\")\n",
    "print(f\"Output prediction probabilities:\\n{torch.softmax(pred, dim=1)}\\n\")\n",
    "print(f\"Output prediction label:\\n{torch.argmax(torch.softmax(pred, dim=1), dim=1)}\\n\")\n",
    "print(f\"Actual label:\\n{label_single}\")"
   ]
  },
  {
   "cell_type": "markdown",
   "id": "1901a182",
   "metadata": {
    "papermill": {
     "duration": 0.023428,
     "end_time": "2023-01-31T17:25:17.356743",
     "exception": false,
     "start_time": "2023-01-31T17:25:17.333315",
     "status": "completed"
    },
    "tags": []
   },
   "source": [
    "Nice! Our model is working for an image. Let's go ahead and try to understand this model with the `torchinfo` package "
   ]
  },
  {
   "cell_type": "code",
   "execution_count": 12,
   "id": "df87af30",
   "metadata": {
    "execution": {
     "iopub.execute_input": "2023-01-31T17:25:17.406761Z",
     "iopub.status.busy": "2023-01-31T17:25:17.406208Z",
     "iopub.status.idle": "2023-01-31T17:25:34.301425Z",
     "shell.execute_reply": "2023-01-31T17:25:34.300145Z"
    },
    "id": "iDdzcRfVRP2a",
    "outputId": "078bff53-f872-4aff-bdbf-de6487d7fd4a",
    "papermill": {
     "duration": 16.92429,
     "end_time": "2023-01-31T17:25:34.304876",
     "exception": false,
     "start_time": "2023-01-31T17:25:17.380586",
     "status": "completed"
    },
    "tags": []
   },
   "outputs": [
    {
     "name": "stdout",
     "output_type": "stream",
     "text": [
      "Collecting torchinfo\r\n",
      "  Downloading torchinfo-1.7.1-py3-none-any.whl (22 kB)\r\n",
      "Installing collected packages: torchinfo\r\n",
      "Successfully installed torchinfo-1.7.1\r\n",
      "\u001b[33mWARNING: Running pip as the 'root' user can result in broken permissions and conflicting behaviour with the system package manager. It is recommended to use a virtual environment instead: https://pip.pypa.io/warnings/venv\u001b[0m\u001b[33m\r\n",
      "\u001b[0m"
     ]
    },
    {
     "data": {
      "text/plain": [
       "==========================================================================================\n",
       "Layer (type:depth-idx)                   Output Shape              Param #\n",
       "==========================================================================================\n",
       "ImageClassifier                          [1, 2]                    --\n",
       "├─Sequential: 1-1                        [1, 64, 112, 112]         --\n",
       "│    └─Conv2d: 2-1                       [1, 64, 224, 224]         1,792\n",
       "│    └─ReLU: 2-2                         [1, 64, 224, 224]         --\n",
       "│    └─BatchNorm2d: 2-3                  [1, 64, 224, 224]         128\n",
       "│    └─MaxPool2d: 2-4                    [1, 64, 112, 112]         --\n",
       "├─Sequential: 1-2                        [1, 512, 56, 56]          --\n",
       "│    └─Conv2d: 2-5                       [1, 512, 112, 112]        295,424\n",
       "│    └─ReLU: 2-6                         [1, 512, 112, 112]        --\n",
       "│    └─BatchNorm2d: 2-7                  [1, 512, 112, 112]        1,024\n",
       "│    └─MaxPool2d: 2-8                    [1, 512, 56, 56]          --\n",
       "├─Sequential: 1-3                        [1, 512, 28, 28]          --\n",
       "│    └─Conv2d: 2-9                       [1, 512, 56, 56]          2,359,808\n",
       "│    └─ReLU: 2-10                        [1, 512, 56, 56]          --\n",
       "│    └─BatchNorm2d: 2-11                 [1, 512, 56, 56]          1,024\n",
       "│    └─MaxPool2d: 2-12                   [1, 512, 28, 28]          --\n",
       "├─Sequential: 1-4                        [1, 512, 14, 14]          (recursive)\n",
       "│    └─Conv2d: 2-13                      [1, 512, 28, 28]          (recursive)\n",
       "│    └─ReLU: 2-14                        [1, 512, 28, 28]          --\n",
       "│    └─BatchNorm2d: 2-15                 [1, 512, 28, 28]          (recursive)\n",
       "│    └─MaxPool2d: 2-16                   [1, 512, 14, 14]          --\n",
       "├─Sequential: 1-5                        [1, 512, 7, 7]            (recursive)\n",
       "│    └─Conv2d: 2-17                      [1, 512, 14, 14]          (recursive)\n",
       "│    └─ReLU: 2-18                        [1, 512, 14, 14]          --\n",
       "│    └─BatchNorm2d: 2-19                 [1, 512, 14, 14]          (recursive)\n",
       "│    └─MaxPool2d: 2-20                   [1, 512, 7, 7]            --\n",
       "├─Sequential: 1-6                        [1, 512, 3, 3]            (recursive)\n",
       "│    └─Conv2d: 2-21                      [1, 512, 7, 7]            (recursive)\n",
       "│    └─ReLU: 2-22                        [1, 512, 7, 7]            --\n",
       "│    └─BatchNorm2d: 2-23                 [1, 512, 7, 7]            (recursive)\n",
       "│    └─MaxPool2d: 2-24                   [1, 512, 3, 3]            --\n",
       "├─Sequential: 1-7                        [1, 2]                    --\n",
       "│    └─Flatten: 2-25                     [1, 4608]                 --\n",
       "│    └─Linear: 2-26                      [1, 2]                    9,218\n",
       "==========================================================================================\n",
       "Total params: 2,668,418\n",
       "Trainable params: 2,668,418\n",
       "Non-trainable params: 0\n",
       "Total mult-adds (G): 13.62\n",
       "==========================================================================================\n",
       "Input size (MB): 0.60\n",
       "Forward/backward pass size (MB): 179.83\n",
       "Params size (MB): 10.67\n",
       "Estimated Total Size (MB): 191.11\n",
       "=========================================================================================="
      ]
     },
     "execution_count": 12,
     "metadata": {},
     "output_type": "execute_result"
    }
   ],
   "source": [
    "# Install and importing torchinfo\n",
    "try: \n",
    "    import torchinfo\n",
    "except:\n",
    "    !pip install torchinfo\n",
    "    import torchinfo\n",
    "    \n",
    "from torchinfo import summary\n",
    "\n",
    "# Testing with an example input size \n",
    "summary(my_model, input_size=[1, 3, hyper_params[\"image_size\"] ,hyper_params[\"image_size\"]]) "
   ]
  },
  {
   "cell_type": "markdown",
   "id": "b5002a34",
   "metadata": {
    "papermill": {
     "duration": 0.026616,
     "end_time": "2023-01-31T17:25:34.361187",
     "exception": false,
     "start_time": "2023-01-31T17:25:34.334571",
     "status": "completed"
    },
    "tags": []
   },
   "source": [
    "Note that the model is built on the training data and tested on the validation set. Now let's create two function to train and test the model."
   ]
  },
  {
   "cell_type": "code",
   "execution_count": 13,
   "id": "8420f4da",
   "metadata": {
    "execution": {
     "iopub.execute_input": "2023-01-31T17:25:34.417886Z",
     "iopub.status.busy": "2023-01-31T17:25:34.417387Z",
     "iopub.status.idle": "2023-01-31T17:25:34.433788Z",
     "shell.execute_reply": "2023-01-31T17:25:34.432679Z"
    },
    "id": "K0cOVqstRwCZ",
    "papermill": {
     "duration": 0.048735,
     "end_time": "2023-01-31T17:25:34.436872",
     "exception": false,
     "start_time": "2023-01-31T17:25:34.388137",
     "status": "completed"
    },
    "tags": []
   },
   "outputs": [],
   "source": [
    "def my_train_step(model: torch.nn.Module, \n",
    "                 dataloader: torch.utils.data.DataLoader, \n",
    "                 loss_fn: torch.nn.Module, \n",
    "                 optimizer: torch.optim.Optimizer):\n",
    "    \n",
    "    # Setting train mode\n",
    "    my_model.train()\n",
    "    \n",
    "    # Initializing train loss & train accuracy values\n",
    "    train_loss = 0\n",
    "    train_acc = 0\n",
    "    \n",
    "    # Looping through each batch data in the dataloader\n",
    "    for batch, (inp, out) in enumerate(dataloader):\n",
    "        \n",
    "        # Moving data to device\n",
    "        inp, out = inp.to(device), out.to(device)\n",
    "        \n",
    "        # Predicting the input\n",
    "        y_pred = my_model(inp)\n",
    "\n",
    "        # Calculating & accumulating loss\n",
    "        loss = loss_fn(y_pred, out)\n",
    "        train_loss += loss.item() \n",
    "\n",
    "        # Optimizer zero grad\n",
    "        optimizer.zero_grad()\n",
    "\n",
    "        # Loss backward\n",
    "        loss.backward()\n",
    "\n",
    "        # Optimizer step\n",
    "        optimizer.step()\n",
    "\n",
    "        # Calculating & accumulating the accuracy metric\n",
    "        y_pred_label = torch.argmax(torch.softmax(y_pred, dim=1), dim=1)\n",
    "        train_acc += (y_pred_label == out).sum().item()/len(y_pred)\n",
    "\n",
    "    # Calculating metrics \n",
    "    train_loss = train_loss / len(dataloader)\n",
    "    train_acc = train_acc / len(dataloader)\n",
    "    \n",
    "    # Logging train metrics\n",
    "    experiment.log_metrics({\"train_accuracy\": train_acc, \"train_loss\": train_loss}, epoch=hyper_params['num_epochs'])\n",
    "    \n",
    "    return train_loss, train_acc"
   ]
  },
  {
   "cell_type": "code",
   "execution_count": 14,
   "id": "9113cb2f",
   "metadata": {
    "execution": {
     "iopub.execute_input": "2023-01-31T17:25:34.494356Z",
     "iopub.status.busy": "2023-01-31T17:25:34.493773Z",
     "iopub.status.idle": "2023-01-31T17:25:34.509752Z",
     "shell.execute_reply": "2023-01-31T17:25:34.508607Z"
    },
    "id": "lAxEiSgWS3rv",
    "papermill": {
     "duration": 0.048444,
     "end_time": "2023-01-31T17:25:34.513317",
     "exception": false,
     "start_time": "2023-01-31T17:25:34.464873",
     "status": "completed"
    },
    "tags": []
   },
   "outputs": [],
   "source": [
    "def my_test_step(model: torch.nn.Module, \n",
    "                dataloader: torch.utils.data.DataLoader, \n",
    "                loss_fn: torch.nn.Module):\n",
    "    \n",
    "    # Setting eval mode\n",
    "    my_model.eval() \n",
    "    \n",
    "    # Initializing test loss & test accuracy values\n",
    "    test_loss = 0\n",
    "    test_acc = 0\n",
    "    \n",
    "    # Starting the inference mode\n",
    "    with torch.inference_mode():\n",
    "        \n",
    "        # Looping through each batch data in the dataloader\n",
    "        for batch, (inp, out) in enumerate(dataloader):\n",
    "            \n",
    "            # Moving data to device\n",
    "            inp, out = inp.to(device), out.to(device)\n",
    "    \n",
    "            # Forward pass\n",
    "            test_pred_logits = my_model(inp)\n",
    "\n",
    "            # Calculating & accumulating loss\n",
    "            loss = loss_fn(test_pred_logits, out)\n",
    "            test_loss += loss.item()\n",
    "            \n",
    "            # Calculating & accumulating the accuracy metric\n",
    "            test_pred_labels = test_pred_logits.argmax(dim=1)\n",
    "            test_acc += ((test_pred_labels == out).sum().item()/len(test_pred_labels))\n",
    "            \n",
    "    # Calculating metrics\n",
    "    test_loss = test_loss / len(dataloader)\n",
    "    test_acc = test_acc / len(dataloader)\n",
    "    \n",
    "    # Logging test metrics\n",
    "    experiment.log_metrics({\"test_accuracy\": test_acc, \"test_loss\": test_loss}, epoch=hyper_params['num_epochs'])\n",
    "    \n",
    "    return test_loss, test_acc"
   ]
  },
  {
   "cell_type": "markdown",
   "id": "3c7a6f26",
   "metadata": {
    "id": "UsAKvGwpTAS7",
    "papermill": {
     "duration": 0.026556,
     "end_time": "2023-01-31T17:25:34.567379",
     "exception": false,
     "start_time": "2023-01-31T17:25:34.540823",
     "status": "completed"
    },
    "tags": []
   },
   "source": [
    "Now let's create a function named train to combine the train_step and test_step functions."
   ]
  },
  {
   "cell_type": "code",
   "execution_count": 15,
   "id": "abf18d36",
   "metadata": {
    "execution": {
     "iopub.execute_input": "2023-01-31T17:25:34.623979Z",
     "iopub.status.busy": "2023-01-31T17:25:34.623401Z",
     "iopub.status.idle": "2023-01-31T17:25:34.639544Z",
     "shell.execute_reply": "2023-01-31T17:25:34.638508Z"
    },
    "id": "uhTD1INIS_UA",
    "papermill": {
     "duration": 0.047718,
     "end_time": "2023-01-31T17:25:34.642456",
     "exception": false,
     "start_time": "2023-01-31T17:25:34.594738",
     "status": "completed"
    },
    "tags": []
   },
   "outputs": [],
   "source": [
    "from tqdm.auto import tqdm\n",
    "\n",
    "# Setting parameters \n",
    "def my_train(model: torch.nn.Module, \n",
    "            train_dataloader: torch.utils.data.DataLoader, \n",
    "            test_dataloader: torch.utils.data.DataLoader, \n",
    "            optimizer: torch.optim.Optimizer,\n",
    "            loss_fn: torch.nn.Module = nn.CrossEntropyLoss(),\n",
    "            epochs: int = 5):\n",
    "    \n",
    "    # Creating a variable for metrics\n",
    "    my_results = {\"train_loss\": [],\n",
    "                  \"train_acc\": [],\n",
    "                  \"test_loss\": [],\n",
    "                  \"test_acc\": []}\n",
    "    \n",
    "    # Looping for training and testing steps \n",
    "    for epoch in tqdm(range(epochs)):\n",
    "        train_loss, train_acc = my_train_step(model=my_model,\n",
    "                                              dataloader=my_train_dataloader,\n",
    "                                              loss_fn=my_loss_fn,\n",
    "                                              optimizer=my_optimizer)\n",
    "        test_loss, test_acc = my_test_step(model=my_model,\n",
    "                                           dataloader=my_test_dataloader,\n",
    "                                           loss_fn=my_loss_fn)\n",
    "        \n",
    "        # Printing results\n",
    "        print(\n",
    "            f\"Epoch: {epoch+1} | \"\n",
    "            f\"train_loss: {train_loss:.4f} | \"\n",
    "            f\"train_acc: {train_acc:.4f} | \"\n",
    "            f\"test_loss: {test_loss:.4f} | \"\n",
    "            f\"test_acc: {test_acc:.4f}\")\n",
    "\n",
    "        # Updating results\n",
    "        my_results[\"train_loss\"].append(train_loss)\n",
    "        my_results[\"train_acc\"].append(train_acc)\n",
    "        my_results[\"test_loss\"].append(test_loss)\n",
    "        my_results[\"test_acc\"].append(test_acc)\n",
    "\n",
    "    # Returning results at the end of the epochs\n",
    "    return my_results"
   ]
  },
  {
   "cell_type": "markdown",
   "id": "5489fc3d",
   "metadata": {
    "papermill": {
     "duration": 0.025399,
     "end_time": "2023-01-31T17:25:34.694867",
     "exception": false,
     "start_time": "2023-01-31T17:25:34.669468",
     "status": "completed"
    },
    "tags": []
   },
   "source": [
    "So far, we created training and test steps. We are ready to train the model using these steps. Show time:"
   ]
  },
  {
   "cell_type": "code",
   "execution_count": 16,
   "id": "fa422dfe",
   "metadata": {
    "execution": {
     "iopub.execute_input": "2023-01-31T17:25:34.750778Z",
     "iopub.status.busy": "2023-01-31T17:25:34.750296Z",
     "iopub.status.idle": "2023-01-31T18:04:01.745862Z",
     "shell.execute_reply": "2023-01-31T18:04:01.744705Z"
    },
    "id": "n8K6e7DeTShp",
    "outputId": "af4f43fc-5a21-4214-e655-91b99396e153",
    "papermill": {
     "duration": 2307.041301,
     "end_time": "2023-01-31T18:04:01.763249",
     "exception": false,
     "start_time": "2023-01-31T17:25:34.721948",
     "status": "completed"
    },
    "tags": []
   },
   "outputs": [
    {
     "data": {
      "application/vnd.jupyter.widget-view+json": {
       "model_id": "f88a474bc08c4bf0852e2a2a1625a375",
       "version_major": 2,
       "version_minor": 0
      },
      "text/plain": [
       "  0%|          | 0/20 [00:00<?, ?it/s]"
      ]
     },
     "metadata": {},
     "output_type": "display_data"
    },
    {
     "name": "stdout",
     "output_type": "stream",
     "text": [
      "Epoch: 1 | train_loss: 0.9685 | train_acc: 0.5594 | test_loss: 0.7010 | test_acc: 0.5958\n",
      "Epoch: 2 | train_loss: 0.9198 | train_acc: 0.5850 | test_loss: 0.6235 | test_acc: 0.6429\n",
      "Epoch: 3 | train_loss: 0.7764 | train_acc: 0.6432 | test_loss: 0.6730 | test_acc: 0.6383\n",
      "Epoch: 4 | train_loss: 0.6193 | train_acc: 0.6672 | test_loss: 0.5692 | test_acc: 0.7050\n",
      "Epoch: 5 | train_loss: 0.5591 | train_acc: 0.7122 | test_loss: 0.5006 | test_acc: 0.7497\n",
      "Epoch: 6 | train_loss: 0.5430 | train_acc: 0.7251 | test_loss: 0.5675 | test_acc: 0.6925\n",
      "Epoch: 7 | train_loss: 0.5042 | train_acc: 0.7445 | test_loss: 0.5224 | test_acc: 0.7197\n",
      "Epoch: 8 | train_loss: 0.4730 | train_acc: 0.7656 | test_loss: 0.5496 | test_acc: 0.7238\n",
      "Epoch: 9 | train_loss: 0.4314 | train_acc: 0.7916 | test_loss: 0.3905 | test_acc: 0.8214\n",
      "Epoch: 10 | train_loss: 0.4122 | train_acc: 0.8106 | test_loss: 0.3933 | test_acc: 0.8142\n",
      "Epoch: 11 | train_loss: 0.3580 | train_acc: 0.8338 | test_loss: 0.3862 | test_acc: 0.8248\n",
      "Epoch: 12 | train_loss: 0.3251 | train_acc: 0.8538 | test_loss: 0.3151 | test_acc: 0.8666\n",
      "Epoch: 13 | train_loss: 0.3003 | train_acc: 0.8647 | test_loss: 0.3194 | test_acc: 0.8515\n",
      "Epoch: 14 | train_loss: 0.2813 | train_acc: 0.8741 | test_loss: 0.3005 | test_acc: 0.8541\n",
      "Epoch: 15 | train_loss: 0.2617 | train_acc: 0.8801 | test_loss: 0.2439 | test_acc: 0.8901\n",
      "Epoch: 16 | train_loss: 0.2120 | train_acc: 0.9057 | test_loss: 0.2492 | test_acc: 0.8927\n",
      "Epoch: 17 | train_loss: 0.2259 | train_acc: 0.9006 | test_loss: 0.2140 | test_acc: 0.9077\n",
      "Epoch: 18 | train_loss: 0.1893 | train_acc: 0.9147 | test_loss: 0.2170 | test_acc: 0.9044\n",
      "Epoch: 19 | train_loss: 0.1934 | train_acc: 0.9147 | test_loss: 0.3713 | test_acc: 0.8375\n",
      "Epoch: 20 | train_loss: 0.1826 | train_acc: 0.9192 | test_loss: 0.2124 | test_acc: 0.9076\n",
      "Total training time: 2306.981 seconds\n"
     ]
    }
   ],
   "source": [
    "# Setting seeds\n",
    "torch.manual_seed(hyper_params[\"seed\"]) \n",
    "torch.cuda.manual_seed(hyper_params[\"seed\"])\n",
    "\n",
    "# Creating loss function & optimizer\n",
    "my_loss_fn = nn.CrossEntropyLoss()\n",
    "my_optimizer = torch.optim.Adam(params=my_model.parameters(), lr=hyper_params[\"learning_rate\"])\n",
    "\n",
    "# Initializing the timer\n",
    "from timeit import default_timer as timer \n",
    "my_start_time = timer()\n",
    "\n",
    "# Training our model\n",
    "my_model_results = my_train(model=my_model,\n",
    "                            train_dataloader=my_train_dataloader,\n",
    "                            test_dataloader=my_test_dataloader,\n",
    "                            optimizer=my_optimizer,\n",
    "                            loss_fn=my_loss_fn,\n",
    "                            epochs=hyper_params[\"num_epochs\"])\n",
    "\n",
    "# Ending the timer \n",
    "my_end_time = timer()\n",
    "\n",
    "# Printing the time\n",
    "print(f\"Total training time: {my_end_time-my_start_time:.3f} seconds\")"
   ]
  },
  {
   "cell_type": "markdown",
   "id": "9d52402a",
   "metadata": {
    "papermill": {
     "duration": 0.015295,
     "end_time": "2023-01-31T18:04:01.794719",
     "exception": false,
     "start_time": "2023-01-31T18:04:01.779424",
     "status": "completed"
    },
    "tags": []
   },
   "source": [
    "Beautiful. It's done. Now we had a model for image classification. To understand the performance of model, let's visualize the loss and accuracy values."
   ]
  },
  {
   "cell_type": "code",
   "execution_count": 17,
   "id": "af9decb8",
   "metadata": {
    "execution": {
     "iopub.execute_input": "2023-01-31T18:04:01.828271Z",
     "iopub.status.busy": "2023-01-31T18:04:01.827489Z",
     "iopub.status.idle": "2023-01-31T18:04:01.836318Z",
     "shell.execute_reply": "2023-01-31T18:04:01.835317Z"
    },
    "id": "WevAWGI_kLf4",
    "papermill": {
     "duration": 0.027678,
     "end_time": "2023-01-31T18:04:01.838491",
     "exception": false,
     "start_time": "2023-01-31T18:04:01.810813",
     "status": "completed"
    },
    "tags": []
   },
   "outputs": [],
   "source": [
    "def my_plot_loss_curves(results):\n",
    "  \n",
    "    my_results = dict(list(my_model_results.items()))\n",
    "\n",
    "    # Getting the train & test loss values\n",
    "    my_loss = my_results['train_loss']\n",
    "    my_test_loss = my_results['test_loss']\n",
    "\n",
    "    # Getting the train & test accuracy values\n",
    "    my_accuracy = my_results['train_acc']\n",
    "    my_test_accuracy = my_results['test_acc']\n",
    "\n",
    "    # Calculating epochs\n",
    "    my_epochs = range(len(my_results['train_loss']))\n",
    "\n",
    "    # Let's setup a graph\n",
    "    plt.figure(figsize=(15, 7))\n",
    "\n",
    "    # Let's plot loss\n",
    "    plt.subplot(1, 2, 1)\n",
    "    plt.plot(my_epochs, my_loss, label='train_loss')\n",
    "    plt.plot(my_epochs, my_test_loss, label='test_loss')\n",
    "    plt.title('Loss')\n",
    "    plt.xlabel('Epochs')\n",
    "    plt.legend()\n",
    "\n",
    "    # Let' plot accuracy\n",
    "    plt.subplot(1, 2, 2)\n",
    "    plt.plot(my_epochs, my_accuracy, label='train_accuracy')\n",
    "    plt.plot(my_epochs, my_test_accuracy, label='test_accuracy')\n",
    "    plt.title('Accuracy')\n",
    "    plt.xlabel('Epochs')\n",
    "    plt.legend();"
   ]
  },
  {
   "cell_type": "markdown",
   "id": "63c77cf8",
   "metadata": {
    "papermill": {
     "duration": 0.015644,
     "end_time": "2023-01-31T18:04:01.869747",
     "exception": false,
     "start_time": "2023-01-31T18:04:01.854103",
     "status": "completed"
    },
    "tags": []
   },
   "source": [
    "It is time to visualize for the loss and accuracy values using this function."
   ]
  },
  {
   "cell_type": "code",
   "execution_count": 18,
   "id": "dadf2555",
   "metadata": {
    "execution": {
     "iopub.execute_input": "2023-01-31T18:04:01.902316Z",
     "iopub.status.busy": "2023-01-31T18:04:01.901988Z",
     "iopub.status.idle": "2023-01-31T18:04:02.403378Z",
     "shell.execute_reply": "2023-01-31T18:04:02.402319Z"
    },
    "id": "3uS-wF6wmH0B",
    "outputId": "aca58bb7-7f47-4965-ca12-b14d216ba74d",
    "papermill": {
     "duration": 0.520842,
     "end_time": "2023-01-31T18:04:02.406162",
     "exception": false,
     "start_time": "2023-01-31T18:04:01.885320",
     "status": "completed"
    },
    "tags": []
   },
   "outputs": [
    {
     "data": {
      "image/png": "[encoded data removed]",
      "text/plain": [
       "<Figure size 1080x504 with 2 Axes>"
      ]
     },
     "metadata": {},
     "output_type": "display_data"
    }
   ],
   "source": [
    "my_plot_loss_curves(my_model_results)"
   ]
  },
  {
   "cell_type": "markdown",
   "id": "f35cc43c",
   "metadata": {
    "papermill": {
     "duration": 0.017956,
     "end_time": "2023-01-31T18:04:02.443413",
     "exception": false,
     "start_time": "2023-01-31T18:04:02.425457",
     "status": "completed"
    },
    "tags": []
   },
   "source": [
    "Awesome. The performance of our model is not bad on both the training and test datasets. Let's go ahead and take a look at how to make a prediction."
   ]
  },
  {
   "cell_type": "markdown",
   "id": "b7493095",
   "metadata": {
    "id": "i4S-9BpBnhM6",
    "papermill": {
     "duration": 0.018518,
     "end_time": "2023-01-31T18:04:02.480209",
     "exception": false,
     "start_time": "2023-01-31T18:04:02.461691",
     "status": "completed"
    },
    "tags": []
   },
   "source": [
    "<a id=\"Prediction\"></a>\n",
    "# <p style=\"background-color:coral;font-family:newtimeroman;font-size:150%;color:white;text-align:center;border-radius:20px 20px;\"><b>5. Make a Prediction</b></p>\n",
    "\n",
    "Now we had a good model for image classification. But, how does this model predict new data? To understand this let me make a prediction on a custom image. "
   ]
  },
  {
   "cell_type": "code",
   "execution_count": 19,
   "id": "e6cf4624",
   "metadata": {
    "execution": {
     "iopub.execute_input": "2023-01-31T18:04:02.519880Z",
     "iopub.status.busy": "2023-01-31T18:04:02.519486Z",
     "iopub.status.idle": "2023-01-31T18:04:02.539150Z",
     "shell.execute_reply": "2023-01-31T18:04:02.537887Z"
    },
    "id": "c2Cke99ToEZr",
    "outputId": "bc388d6e-6d02-4811-c807-f7fe4036331f",
    "papermill": {
     "duration": 0.041402,
     "end_time": "2023-01-31T18:04:02.541439",
     "exception": false,
     "start_time": "2023-01-31T18:04:02.500037",
     "status": "completed"
    },
    "tags": []
   },
   "outputs": [
    {
     "name": "stdout",
     "output_type": "stream",
     "text": [
      "Custom image tensor:\n",
      "tensor([[[0.4941, 0.3059, 0.3059,  ..., 0.5490, 0.5412, 0.5451],\n",
      "         [0.5333, 0.3451, 0.3059,  ..., 0.5490, 0.5451, 0.5490],\n",
      "         [0.5686, 0.3961, 0.2980,  ..., 0.5490, 0.5451, 0.5490],\n",
      "         ...,\n",
      "         [0.6157, 0.6039, 0.6314,  ..., 0.6392, 0.6157, 0.5961],\n",
      "         [0.6157, 0.6039, 0.6314,  ..., 0.6471, 0.6157, 0.5882],\n",
      "         [0.6157, 0.6039, 0.6314,  ..., 0.6471, 0.6118, 0.5804]],\n",
      "\n",
      "        [[0.4314, 0.2431, 0.2392,  ..., 0.5490, 0.5412, 0.5451],\n",
      "         [0.4863, 0.2941, 0.2549,  ..., 0.5490, 0.5451, 0.5490],\n",
      "         [0.5412, 0.3686, 0.2706,  ..., 0.5490, 0.5451, 0.5490],\n",
      "         ...,\n",
      "         [0.4784, 0.4667, 0.4941,  ..., 0.5608, 0.5373, 0.5176],\n",
      "         [0.4784, 0.4667, 0.4941,  ..., 0.5686, 0.5373, 0.5098],\n",
      "         [0.4784, 0.4667, 0.4941,  ..., 0.5686, 0.5333, 0.5020]],\n",
      "\n",
      "        [[0.3333, 0.1529, 0.1686,  ..., 0.5804, 0.5725, 0.5765],\n",
      "         [0.4000, 0.2196, 0.1882,  ..., 0.5804, 0.5765, 0.5804],\n",
      "         [0.4667, 0.2980, 0.2078,  ..., 0.5804, 0.5765, 0.5804],\n",
      "         ...,\n",
      "         [0.4039, 0.3922, 0.4196,  ..., 0.5333, 0.5098, 0.4902],\n",
      "         [0.4039, 0.3922, 0.4196,  ..., 0.5412, 0.5098, 0.4824],\n",
      "         [0.4039, 0.3922, 0.4196,  ..., 0.5412, 0.5059, 0.4745]]])\n",
      "\n",
      "Custom image shape: torch.Size([3, 499, 421])\n",
      "\n",
      "Custom image dtype: torch.float32\n"
     ]
    }
   ],
   "source": [
    "# Let's choose a image.\n",
    "custom_image_path = \"/kaggle/input/cat-and-dog/test_set/test_set/dogs/dog.4001.jpg\"\n",
    "\n",
    "import torchvision\n",
    "# Loading in custom image and turn the tensor values into float32\n",
    "custom_image = torchvision.io.read_image(str(custom_image_path)).type(torch.float32)\n",
    "\n",
    "# Dividing the image pixel values by 255\n",
    "custom_image = custom_image / 255. \n",
    "\n",
    "# Print out image data\n",
    "print(f\"Custom image tensor:\\n{custom_image}\\n\")\n",
    "print(f\"Custom image shape: {custom_image.shape}\\n\")\n",
    "print(f\"Custom image dtype: {custom_image.dtype}\")"
   ]
  },
  {
   "cell_type": "markdown",
   "id": "dae27297",
   "metadata": {
    "papermill": {
     "duration": 0.032275,
     "end_time": "2023-01-31T18:04:02.597619",
     "exception": false,
     "start_time": "2023-01-31T18:04:02.565344",
     "status": "completed"
    },
    "tags": []
   },
   "source": [
    "Now let's create transform pipleine to resize image."
   ]
  },
  {
   "cell_type": "code",
   "execution_count": 20,
   "id": "ba262d8b",
   "metadata": {
    "execution": {
     "iopub.execute_input": "2023-01-31T18:04:02.676787Z",
     "iopub.status.busy": "2023-01-31T18:04:02.676209Z",
     "iopub.status.idle": "2023-01-31T18:04:02.702803Z",
     "shell.execute_reply": "2023-01-31T18:04:02.701524Z"
    },
    "id": "63uu57_JowXg",
    "outputId": "f6d63ccf-b0cf-402d-a97f-bd14f0766112",
    "papermill": {
     "duration": 0.072187,
     "end_time": "2023-01-31T18:04:02.708751",
     "exception": false,
     "start_time": "2023-01-31T18:04:02.636564",
     "status": "completed"
    },
    "tags": []
   },
   "outputs": [
    {
     "name": "stdout",
     "output_type": "stream",
     "text": [
      "Original shape: torch.Size([3, 499, 421])\n",
      "New shape: torch.Size([3, 224, 224])\n"
     ]
    }
   ],
   "source": [
    "custom_image_transform = transforms.Compose([\n",
    "    transforms.Resize(IMAGE_SIZE),\n",
    "])\n",
    "\n",
    "# Transforming target image\n",
    "custom_image_transformed = custom_image_transform(custom_image)\n",
    "\n",
    "# Printing out original and new shape\n",
    "print(f\"Original shape: {custom_image.shape}\")\n",
    "print(f\"New shape: {custom_image_transformed.shape}\")"
   ]
  },
  {
   "cell_type": "markdown",
   "id": "9aa7ce46",
   "metadata": {
    "papermill": {
     "duration": 0.025616,
     "end_time": "2023-01-31T18:04:02.764665",
     "exception": false,
     "start_time": "2023-01-31T18:04:02.739049",
     "status": "completed"
    },
    "tags": []
   },
   "source": [
    "First, let's fit the image for the model with the function we created and then make a prediction."
   ]
  },
  {
   "cell_type": "code",
   "execution_count": 21,
   "id": "be70de28",
   "metadata": {
    "execution": {
     "iopub.execute_input": "2023-01-31T18:04:02.816720Z",
     "iopub.status.busy": "2023-01-31T18:04:02.816199Z",
     "iopub.status.idle": "2023-01-31T18:04:02.831387Z",
     "shell.execute_reply": "2023-01-31T18:04:02.830495Z"
    },
    "id": "62tSSQHro-_V",
    "outputId": "f44c1e06-cb55-436b-e235-fec914c0d9b9",
    "papermill": {
     "duration": 0.044325,
     "end_time": "2023-01-31T18:04:02.834238",
     "exception": false,
     "start_time": "2023-01-31T18:04:02.789913",
     "status": "completed"
    },
    "tags": []
   },
   "outputs": [
    {
     "name": "stdout",
     "output_type": "stream",
     "text": [
      "Custom image transformed shape: torch.Size([3, 224, 224])\n",
      "Unsqueezed custom image shape: torch.Size([1, 3, 224, 224])\n"
     ]
    }
   ],
   "source": [
    "# Setting eval mode\n",
    "my_model.eval()\n",
    "with torch.inference_mode():\n",
    "    \n",
    "    # Adding an extra dimension to image\n",
    "    custom_image_transformed_with_batch_size = custom_image_transformed.unsqueeze(dim=0)\n",
    "    \n",
    "    # Printing out different shapes\n",
    "    print(f\"Custom image transformed shape: {custom_image_transformed.shape}\")\n",
    "    print(f\"Unsqueezed custom image shape: {custom_image_transformed_with_batch_size.shape}\")\n",
    "    \n",
    "    # Predicting the labels of the image with an extra dimension\n",
    "    custom_image_pred = my_model(custom_image_transformed.unsqueeze(dim=0).to(device))"
   ]
  },
  {
   "cell_type": "markdown",
   "id": "31fe0cc4",
   "metadata": {
    "papermill": {
     "duration": 0.026665,
     "end_time": "2023-01-31T18:04:02.886925",
     "exception": false,
     "start_time": "2023-01-31T18:04:02.860260",
     "status": "completed"
    },
    "tags": []
   },
   "source": [
    "Now let's take a look at our model's predictions."
   ]
  },
  {
   "cell_type": "code",
   "execution_count": 22,
   "id": "968f533f",
   "metadata": {
    "execution": {
     "iopub.execute_input": "2023-01-31T18:04:02.943282Z",
     "iopub.status.busy": "2023-01-31T18:04:02.942740Z",
     "iopub.status.idle": "2023-01-31T18:04:02.954779Z",
     "shell.execute_reply": "2023-01-31T18:04:02.953860Z"
    },
    "id": "V8ie7MCupO3H",
    "outputId": "7f0d8adb-3566-47af-fa4f-b84e8777e5fa",
    "papermill": {
     "duration": 0.042906,
     "end_time": "2023-01-31T18:04:02.957419",
     "exception": false,
     "start_time": "2023-01-31T18:04:02.914513",
     "status": "completed"
    },
    "tags": []
   },
   "outputs": [
    {
     "data": {
      "text/plain": [
       "tensor([[-1.3649,  1.4751]], device='cuda:0')"
      ]
     },
     "execution_count": 22,
     "metadata": {},
     "output_type": "execute_result"
    }
   ],
   "source": [
    "custom_image_pred"
   ]
  },
  {
   "cell_type": "markdown",
   "id": "4b84447d",
   "metadata": {
    "papermill": {
     "duration": 0.025628,
     "end_time": "2023-01-31T18:04:03.009397",
     "exception": false,
     "start_time": "2023-01-31T18:04:02.983769",
     "status": "completed"
    },
    "tags": []
   },
   "source": [
    "Nice! we've seen the prediction values of the model. Let's take a look at the prediction class. First, let me show you the prediction values."
   ]
  },
  {
   "cell_type": "code",
   "execution_count": 23,
   "id": "4ab3e8b4",
   "metadata": {
    "execution": {
     "iopub.execute_input": "2023-01-31T18:04:03.062566Z",
     "iopub.status.busy": "2023-01-31T18:04:03.062066Z",
     "iopub.status.idle": "2023-01-31T18:04:03.077535Z",
     "shell.execute_reply": "2023-01-31T18:04:03.076451Z"
    },
    "id": "g7K5cDOqpYqM",
    "outputId": "1e004d6c-7338-46b5-a44b-e13bd6da7d1f",
    "papermill": {
     "duration": 0.045153,
     "end_time": "2023-01-31T18:04:03.080260",
     "exception": false,
     "start_time": "2023-01-31T18:04:03.035107",
     "status": "completed"
    },
    "tags": []
   },
   "outputs": [
    {
     "name": "stdout",
     "output_type": "stream",
     "text": [
      "Prediction logits: tensor([[-1.3649,  1.4751]], device='cuda:0')\n",
      "Prediction probabilities: tensor([[0.0552, 0.9448]], device='cuda:0')\n",
      "Prediction label: tensor([1], device='cuda:0')\n"
     ]
    }
   ],
   "source": [
    "# Print out our prediction logits\n",
    "print(f\"Prediction logits: {custom_image_pred}\")\n",
    "\n",
    "# Convert logits \n",
    "custom_image_pred_probs = torch.softmax(custom_image_pred, dim=1)\n",
    "print(f\"Prediction probabilities: {custom_image_pred_probs}\")\n",
    "\n",
    "# Convert prediction \n",
    "custom_image_pred_label = torch.argmax(custom_image_pred_probs, dim=1)\n",
    "print(f\"Prediction label: {custom_image_pred_label}\")"
   ]
  },
  {
   "cell_type": "markdown",
   "id": "fa0e2242",
   "metadata": {
    "papermill": {
     "duration": 0.026672,
     "end_time": "2023-01-31T18:04:03.132908",
     "exception": false,
     "start_time": "2023-01-31T18:04:03.106236",
     "status": "completed"
    },
    "tags": []
   },
   "source": [
    "It is time to find the predicted label."
   ]
  },
  {
   "cell_type": "code",
   "execution_count": 24,
   "id": "e77f8321",
   "metadata": {
    "execution": {
     "iopub.execute_input": "2023-01-31T18:04:03.198198Z",
     "iopub.status.busy": "2023-01-31T18:04:03.197841Z",
     "iopub.status.idle": "2023-01-31T18:04:03.205213Z",
     "shell.execute_reply": "2023-01-31T18:04:03.204276Z"
    },
    "id": "BOS4bcrVpfej",
    "outputId": "a7f17784-9d01-43ce-bd55-c3333e22206d",
    "papermill": {
     "duration": 0.04121,
     "end_time": "2023-01-31T18:04:03.207444",
     "exception": false,
     "start_time": "2023-01-31T18:04:03.166234",
     "status": "completed"
    },
    "tags": []
   },
   "outputs": [
    {
     "data": {
      "text/plain": [
       "'dogs'"
      ]
     },
     "execution_count": 24,
     "metadata": {},
     "output_type": "execute_result"
    }
   ],
   "source": [
    "class_names = my_train_data.classes\n",
    "# Make sure to move the pred label to the CPU  \n",
    "custom_image_pred_class = class_names[custom_image_pred_label.cpu()] \n",
    "custom_image_pred_class"
   ]
  },
  {
   "cell_type": "markdown",
   "id": "6af34bca",
   "metadata": {
    "papermill": {
     "duration": 0.017834,
     "end_time": "2023-01-31T18:04:03.243045",
     "exception": false,
     "start_time": "2023-01-31T18:04:03.225211",
     "status": "completed"
    },
    "tags": []
   },
   "source": [
    "Let's visualize this image with matplotlib."
   ]
  },
  {
   "cell_type": "code",
   "execution_count": 25,
   "id": "52e964c0",
   "metadata": {
    "execution": {
     "iopub.execute_input": "2023-01-31T18:04:03.281331Z",
     "iopub.status.busy": "2023-01-31T18:04:03.279759Z",
     "iopub.status.idle": "2023-01-31T18:04:03.493451Z",
     "shell.execute_reply": "2023-01-31T18:04:03.492397Z"
    },
    "id": "XC8l1iqApxXX",
    "outputId": "8bceeaf0-b2aa-42d1-cb6a-3fd01a40d702",
    "papermill": {
     "duration": 0.235254,
     "end_time": "2023-01-31T18:04:03.496139",
     "exception": false,
     "start_time": "2023-01-31T18:04:03.260885",
     "status": "completed"
    },
    "tags": []
   },
   "outputs": [
    {
     "data": {
      "image/png": "[encoded data removed]",
      "text/plain": [
       "<Figure size 432x288 with 1 Axes>"
      ]
     },
     "metadata": {},
     "output_type": "display_data"
    }
   ],
   "source": [
    "# Plotting custom image\n",
    "# Make sure to permute image dimensions \n",
    "plt.imshow(custom_image.permute(1, 2, 0)) \n",
    "plt.title(f\"Image shape: {custom_image.shape}\")\n",
    "plt.axis(False);"
   ]
  },
  {
   "cell_type": "code",
   "execution_count": 26,
   "id": "b4f080c2",
   "metadata": {
    "execution": {
     "iopub.execute_input": "2023-01-31T18:04:03.537001Z",
     "iopub.status.busy": "2023-01-31T18:04:03.536137Z",
     "iopub.status.idle": "2023-01-31T18:04:03.604324Z",
     "shell.execute_reply": "2023-01-31T18:04:03.600985Z"
    },
    "papermill": {
     "duration": 0.092675,
     "end_time": "2023-01-31T18:04:03.608541",
     "exception": false,
     "start_time": "2023-01-31T18:04:03.515866",
     "status": "completed"
    },
    "tags": []
   },
   "outputs": [],
   "source": [
    "# Saving the model \n",
    "from comet_ml.integration.pytorch import log_model\n",
    "log_model(experiment, my_model, model_name=\"My_Image_Classification_Model\")"
   ]
  },
  {
   "cell_type": "code",
   "execution_count": 27,
   "id": "31714bcb",
   "metadata": {
    "execution": {
     "iopub.execute_input": "2023-01-31T18:04:03.675224Z",
     "iopub.status.busy": "2023-01-31T18:04:03.674767Z",
     "iopub.status.idle": "2023-01-31T18:04:06.789754Z",
     "shell.execute_reply": "2023-01-31T18:04:06.788793Z"
    },
    "papermill": {
     "duration": 3.139773,
     "end_time": "2023-01-31T18:04:06.792186",
     "exception": false,
     "start_time": "2023-01-31T18:04:03.652413",
     "status": "completed"
    },
    "tags": []
   },
   "outputs": [
    {
     "name": "stderr",
     "output_type": "stream",
     "text": [
      "COMET INFO: ---------------------------\n",
      "COMET INFO: Comet.ml Experiment Summary\n",
      "COMET INFO: ---------------------------\n",
      "COMET INFO:   Data:\n",
      "COMET INFO:     display_summary_level : 1\n",
      "COMET INFO:     url                   : https://www.comet.com/tirendaz-academy/experiment-tracking/90544383c2e6489094457ab9aac4afb9\n",
      "COMET INFO:   Metrics [count] (min, max):\n",
      "COMET INFO:     loss [502]          : (0.046953290700912476, 1.9028555154800415)\n",
      "COMET INFO:     test_accuracy [20]  : (0.5958426339285714, 0.90771484375)\n",
      "COMET INFO:     test_loss [20]      : (0.21237719245254993, 0.7010254412889481)\n",
      "COMET INFO:     train_accuracy [20] : (0.5594123505976095, 0.9191982071713147)\n",
      "COMET INFO:     train_loss [20]     : (0.1826288224767478, 0.968531524280153)\n",
      "COMET INFO:   Parameters:\n",
      "COMET INFO:     batch_size    : 32\n",
      "COMET INFO:     image_size    : 224\n",
      "COMET INFO:     learning_rate : 0.001\n",
      "COMET INFO:     num_epochs    : 20\n",
      "COMET INFO:     seed          : 42\n",
      "COMET INFO:   Uploads:\n",
      "COMET INFO:     conda-environment-definition : 1\n",
      "COMET INFO:     conda-info                   : 1\n",
      "COMET INFO:     conda-specification          : 1\n",
      "COMET INFO:     environment details          : 1\n",
      "COMET INFO:     filename                     : 1\n",
      "COMET INFO:     installed packages           : 1\n",
      "COMET INFO:     model graph                  : 1\n",
      "COMET INFO:     model-element                : 2 (10.19 MB)\n",
      "COMET INFO:     notebook                     : 1\n",
      "COMET INFO:     os packages                  : 1\n",
      "COMET INFO:     source_code                  : 1\n",
      "COMET INFO: ---------------------------\n",
      "COMET INFO: Uploading metrics, params, and assets to Comet before program termination (may take several seconds)\n",
      "COMET INFO: The Python SDK has 3600 seconds to finish before aborting...\n"
     ]
    }
   ],
   "source": [
    "# Ending our experiment\n",
    "experiment.end()"
   ]
  },
  {
   "cell_type": "markdown",
   "id": "28026505",
   "metadata": {
    "papermill": {
     "duration": 0.020376,
     "end_time": "2023-01-31T18:04:06.832993",
     "exception": false,
     "start_time": "2023-01-31T18:04:06.812617",
     "status": "completed"
    },
    "tags": []
   },
   "source": [
    "<a id=\"Conclusion\"></a>\n",
    "# <p style=\"background-color:coral;font-family:newtimeroman;font-size:150%;color:white;text-align:center;border-radius:20px 20px;\"><b>6. Conclusion</b></p>\n",
    "\n",
    "In a nutshell, experiment tracking helps researchers to improve their models and to make data-driven decisions. In this notebook, you learned how to track an experiment with Comet ML and build an image classification model from scratch with Pytorch. Tensorflow is generally preferred for deep learning projects. However, with Pytorch, you can better control the deep-learning analysis steps. Pytorch has been preferred more recently, especially in the academic community. We also talked about data augmentation and highlighted the importance of this technique. I hope you like it. Let me know if you have any questions.\n",
    "\n",
    "# Resources\n",
    "\n",
    "- [Learn Pytorch](https://www.learnpytorch.io/)\n",
    "- [Modern Computer Vision with PyTorch](https://www.amazon.com/Modern-Computer-Vision-PyTorch-applications/dp/1839213477)\n",
    "\n",
    "📌 Thank you for reading 😀 If you like this notebook, don't forget to upvote it 😊\n",
    "\n",
    "🔗 Let's connect [YouTube](http://youtube.com/tirendazacademy) | [Medium](http://tirendazacademy.medium.com) | [Twitter](http://twitter.com/tirendazacademy) | [Instagram](https://www.instagram.com/tirendazacademy) |[GitHub](http://github.com/tirendazacademy) | [Linkedin](https://www.linkedin.com/in/tirendaz-academy) | [Kaggle](https://www.kaggle.com/tirendazacademy) 😎"
   ]
  }
 ],
 "metadata": {
  "kernelspec": {
   "display_name": "Python 3",
   "language": "python",
   "name": "python3"
  },
  "language_info": {
   "codemirror_mode": {
    "name": "ipython",
    "version": 3
   },
   "file_extension": ".py",
   "mimetype": "text/x-python",
   "name": "python",
   "nbconvert_exporter": "python",
   "pygments_lexer": "ipython3",
   "version": "3.7.12"
  },
  "papermill": {
   "default_parameters": {},
   "duration": 2380.640481,
   "end_time": "2023-01-31T18:04:09.425606",
   "environment_variables": {},
   "exception": null,
   "input_path": "__notebook__.ipynb",
   "output_path": "__notebook__.ipynb",
   "parameters": {},
   "start_time": "2023-01-31T17:24:28.785125",
   "version": "2.3.4"
  },
  "widgets": {
   "application/vnd.jupyter.widget-state+json": {
    "state": {
     "18e485ce594542feb4bd384351eb78f1": {
      "model_module": "@jupyter-widgets/base",
      "model_module_version": "1.2.0",
      "model_name": "LayoutModel",
      "state": {
       "_model_module": "@jupyter-widgets/base",
       "_model_module_version": "1.2.0",
       "_model_name": "LayoutModel",
       "_view_count": null,
       "_view_module": "@jupyter-widgets/base",
       "_view_module_version": "1.2.0",
       "_view_name": "LayoutView",
       "align_content": null,
       "align_items": null,
       "align_self": null,
       "border": null,
       "bottom": null,
       "display": null,
       "flex": null,
       "flex_flow": null,
       "grid_area": null,
       "grid_auto_columns": null,
       "grid_auto_flow": null,
       "grid_auto_rows": null,
       "grid_column": null,
       "grid_gap": null,
       "grid_row": null,
       "grid_template_areas": null,
       "grid_template_columns": null,
       "grid_template_rows": null,
       "height": null,
       "justify_content": null,
       "justify_items": null,
       "left": null,
       "margin": null,
       "max_height": null,
       "max_width": null,
       "min_height": null,
       "min_width": null,
       "object_fit": null,
       "object_position": null,
       "order": null,
       "overflow": null,
       "overflow_x": null,
       "overflow_y": null,
       "padding": null,
       "right": null,
       "top": null,
       "visibility": null,
       "width": null
      }
     },
     "298259c4f4ef4a0caa9f7df0e7fdaf4f": {
      "model_module": "@jupyter-widgets/controls",
      "model_module_version": "1.5.0",
      "model_name": "HTMLModel",
      "state": {
       "_dom_classes": [],
       "_model_module": "@jupyter-widgets/controls",
       "_model_module_version": "1.5.0",
       "_model_name": "HTMLModel",
       "_view_count": null,
       "_view_module": "@jupyter-widgets/controls",
       "_view_module_version": "1.5.0",
       "_view_name": "HTMLView",
       "description": "",
       "description_tooltip": null,
       "layout": "IPY_MODEL_f03f61d7a62549d9a01dcc6911e39296",
       "placeholder": "​",
       "style": "IPY_MODEL_4e28829f3b7a4a7db985bc8a5e0b06ad",
       "value": "100%"
      }
     },
     "3148b5740f80437b95d64ba6aa329d7a": {
      "model_module": "@jupyter-widgets/controls",
      "model_module_version": "1.5.0",
      "model_name": "DescriptionStyleModel",
      "state": {
       "_model_module": "@jupyter-widgets/controls",
       "_model_module_version": "1.5.0",
       "_model_name": "DescriptionStyleModel",
       "_view_count": null,
       "_view_module": "@jupyter-widgets/base",
       "_view_module_version": "1.2.0",
       "_view_name": "StyleView",
       "description_width": ""
      }
     },
     "4bcb8bef312d4e89b51c477ef55dd22f": {
      "model_module": "@jupyter-widgets/controls",
      "model_module_version": "1.5.0",
      "model_name": "FloatProgressModel",
      "state": {
       "_dom_classes": [],
       "_model_module": "@jupyter-widgets/controls",
       "_model_module_version": "1.5.0",
       "_model_name": "FloatProgressModel",
       "_view_count": null,
       "_view_module": "@jupyter-widgets/controls",
       "_view_module_version": "1.5.0",
       "_view_name": "ProgressView",
       "bar_style": "success",
       "description": "",
       "description_tooltip": null,
       "layout": "IPY_MODEL_cbcabb03ebf04a2990dfe26e2d6e50d8",
       "max": 20.0,
       "min": 0.0,
       "orientation": "horizontal",
       "style": "IPY_MODEL_5376852e9fbe4315982f9cefb919a563",
       "value": 20.0
      }
     },
     "4e28829f3b7a4a7db985bc8a5e0b06ad": {
      "model_module": "@jupyter-widgets/controls",
      "model_module_version": "1.5.0",
      "model_name": "DescriptionStyleModel",
      "state": {
       "_model_module": "@jupyter-widgets/controls",
       "_model_module_version": "1.5.0",
       "_model_name": "DescriptionStyleModel",
       "_view_count": null,
       "_view_module": "@jupyter-widgets/base",
       "_view_module_version": "1.2.0",
       "_view_name": "StyleView",
       "description_width": ""
      }
     },
     "5376852e9fbe4315982f9cefb919a563": {
      "model_module": "@jupyter-widgets/controls",
      "model_module_version": "1.5.0",
      "model_name": "ProgressStyleModel",
      "state": {
       "_model_module": "@jupyter-widgets/controls",
       "_model_module_version": "1.5.0",
       "_model_name": "ProgressStyleModel",
       "_view_count": null,
       "_view_module": "@jupyter-widgets/base",
       "_view_module_version": "1.2.0",
       "_view_name": "StyleView",
       "bar_color": null,
       "description_width": ""
      }
     },
     "88d7ffb3d9234dcea6e577a869395544": {
      "model_module": "@jupyter-widgets/base",
      "model_module_version": "1.2.0",
      "model_name": "LayoutModel",
      "state": {
       "_model_module": "@jupyter-widgets/base",
       "_model_module_version": "1.2.0",
       "_model_name": "LayoutModel",
       "_view_count": null,
       "_view_module": "@jupyter-widgets/base",
       "_view_module_version": "1.2.0",
       "_view_name": "LayoutView",
       "align_content": null,
       "align_items": null,
       "align_self": null,
       "border": null,
       "bottom": null,
       "display": null,
       "flex": null,
       "flex_flow": null,
       "grid_area": null,
       "grid_auto_columns": null,
       "grid_auto_flow": null,
       "grid_auto_rows": null,
       "grid_column": null,
       "grid_gap": null,
       "grid_row": null,
       "grid_template_areas": null,
       "grid_template_columns": null,
       "grid_template_rows": null,
       "height": null,
       "justify_content": null,
       "justify_items": null,
       "left": null,
       "margin": null,
       "max_height": null,
       "max_width": null,
       "min_height": null,
       "min_width": null,
       "object_fit": null,
       "object_position": null,
       "order": null,
       "overflow": null,
       "overflow_x": null,
       "overflow_y": null,
       "padding": null,
       "right": null,
       "top": null,
       "visibility": null,
       "width": null
      }
     },
     "cbcabb03ebf04a2990dfe26e2d6e50d8": {
      "model_module": "@jupyter-widgets/base",
      "model_module_version": "1.2.0",
      "model_name": "LayoutModel",
      "state": {
       "_model_module": "@jupyter-widgets/base",
       "_model_module_version": "1.2.0",
       "_model_name": "LayoutModel",
       "_view_count": null,
       "_view_module": "@jupyter-widgets/base",
       "_view_module_version": "1.2.0",
       "_view_name": "LayoutView",
       "align_content": null,
       "align_items": null,
       "align_self": null,
       "border": null,
       "bottom": null,
       "display": null,
       "flex": null,
       "flex_flow": null,
       "grid_area": null,
       "grid_auto_columns": null,
       "grid_auto_flow": null,
       "grid_auto_rows": null,
       "grid_column": null,
       "grid_gap": null,
       "grid_row": null,
       "grid_template_areas": null,
       "grid_template_columns": null,
       "grid_template_rows": null,
       "height": null,
       "justify_content": null,
       "justify_items": null,
       "left": null,
       "margin": null,
       "max_height": null,
       "max_width": null,
       "min_height": null,
       "min_width": null,
       "object_fit": null,
       "object_position": null,
       "order": null,
       "overflow": null,
       "overflow_x": null,
       "overflow_y": null,
       "padding": null,
       "right": null,
       "top": null,
       "visibility": null,
       "width": null
      }
     },
     "ea75b37fe4154368b9e1971e319420be": {
      "model_module": "@jupyter-widgets/controls",
      "model_module_version": "1.5.0",
      "model_name": "HTMLModel",
      "state": {
       "_dom_classes": [],
       "_model_module": "@jupyter-widgets/controls",
       "_model_module_version": "1.5.0",
       "_model_name": "HTMLModel",
       "_view_count": null,
       "_view_module": "@jupyter-widgets/controls",
       "_view_module_version": "1.5.0",
       "_view_name": "HTMLView",
       "description": "",
       "description_tooltip": null,
       "layout": "IPY_MODEL_88d7ffb3d9234dcea6e577a869395544",
       "placeholder": "​",
       "style": "IPY_MODEL_3148b5740f80437b95d64ba6aa329d7a",
       "value": " 20/20 [38:26&lt;00:00, 113.93s/it]"
      }
     },
     "f03f61d7a62549d9a01dcc6911e39296": {
      "model_module": "@jupyter-widgets/base",
      "model_module_version": "1.2.0",
      "model_name": "LayoutModel",
      "state": {
       "_model_module": "@jupyter-widgets/base",
       "_model_module_version": "1.2.0",
       "_model_name": "LayoutModel",
       "_view_count": null,
       "_view_module": "@jupyter-widgets/base",
       "_view_module_version": "1.2.0",
       "_view_name": "LayoutView",
       "align_content": null,
       "align_items": null,
       "align_self": null,
       "border": null,
       "bottom": null,
       "display": null,
       "flex": null,
       "flex_flow": null,
       "grid_area": null,
       "grid_auto_columns": null,
       "grid_auto_flow": null,
       "grid_auto_rows": null,
       "grid_column": null,
       "grid_gap": null,
       "grid_row": null,
       "grid_template_areas": null,
       "grid_template_columns": null,
       "grid_template_rows": null,
       "height": null,
       "justify_content": null,
       "justify_items": null,
       "left": null,
       "margin": null,
       "max_height": null,
       "max_width": null,
       "min_height": null,
       "min_width": null,
       "object_fit": null,
       "object_position": null,
       "order": null,
       "overflow": null,
       "overflow_x": null,
       "overflow_y": null,
       "padding": null,
       "right": null,
       "top": null,
       "visibility": null,
       "width": null
      }
     },
     "f88a474bc08c4bf0852e2a2a1625a375": {
      "model_module": "@jupyter-widgets/controls",
      "model_module_version": "1.5.0",
      "model_name": "HBoxModel",
      "state": {
       "_dom_classes": [],
       "_model_module": "@jupyter-widgets/controls",
       "_model_module_version": "1.5.0",
       "_model_name": "HBoxModel",
       "_view_count": null,
       "_view_module": "@jupyter-widgets/controls",
       "_view_module_version": "1.5.0",
       "_view_name": "HBoxView",
       "box_style": "",
       "children": [
        "IPY_MODEL_298259c4f4ef4a0caa9f7df0e7fdaf4f",
        "IPY_MODEL_4bcb8bef312d4e89b51c477ef55dd22f",
        "IPY_MODEL_ea75b37fe4154368b9e1971e319420be"
       ],
       "layout": "IPY_MODEL_18e485ce594542feb4bd384351eb78f1"
      }
     }
    },
    "version_major": 2,
    "version_minor": 0
   }
  }
 },
 "nbformat": 4,
 "nbformat_minor": 5
}
