{
 "cells": [
  {
   "cell_type": "markdown",
   "id": "689a3d05",
   "metadata": {},
   "source": [
    "# Cats vs Dogs Classification with Pytorch & Gradio"
   ]
  },
  {
   "cell_type": "code",
   "execution_count": 1,
   "id": "ccd91d8d",
   "metadata": {},
   "outputs": [],
   "source": [
    "import torch\n",
    "from torch import nn\n",
    "# device = \"cuda\" if torch.cuda.is_available() else \"cpu\"\n",
    "class ImageClassifier(nn.Module):\n",
    "\n",
    "    def __init__(self):\n",
    "        super().__init__()\n",
    "        self.conv_layer_1 = nn.Sequential(\n",
    "          nn.Conv2d(3, 64, 3, padding=1),\n",
    "          nn.ReLU(),\n",
    "          nn.BatchNorm2d(64),\n",
    "          nn.MaxPool2d(2))\n",
    "        self.conv_layer_2 = nn.Sequential(\n",
    "          nn.Conv2d(64, 512, 3, padding=1),\n",
    "          nn.ReLU(),\n",
    "          nn.BatchNorm2d(512),\n",
    "          nn.MaxPool2d(2))\n",
    "        self.conv_layer_3 = nn.Sequential(\n",
    "          nn.Conv2d(512, 512, kernel_size=3, padding=1),\n",
    "          nn.ReLU(),\n",
    "          nn.BatchNorm2d(512),\n",
    "          nn.MaxPool2d(2)) \n",
    "        self.classifier = nn.Sequential(\n",
    "          nn.Flatten(),\n",
    "           nn.Linear(in_features=512*3*3, out_features=2)\n",
    "        )\n",
    "\n",
    "    def forward(self, x: torch.Tensor):\n",
    "        x = self.conv_layer_1(x)\n",
    "        x = self.conv_layer_2(x)\n",
    "        x = self.conv_layer_3(x)\n",
    "        x = self.conv_layer_3(x)\n",
    "        x = self.conv_layer_3(x)\n",
    "        x = self.conv_layer_3(x)\n",
    "        #print(x.shape)\n",
    "        x = self.classifier(x)\n",
    "        return x"
   ]
  },
  {
   "cell_type": "code",
   "execution_count": 2,
   "id": "62cce456",
   "metadata": {},
   "outputs": [
    {
     "data": {
      "text/plain": [
       "<All keys matched successfully>"
      ]
     },
     "execution_count": 2,
     "metadata": {},
     "output_type": "execute_result"
    }
   ],
   "source": [
    "PATH = './my-models/image_classifier.pth'\n",
    "model = ImageClassifier()\n",
    "model.load_state_dict(torch.load(PATH))"
   ]
  },
  {
   "cell_type": "code",
   "execution_count": 3,
   "id": "39a25fef",
   "metadata": {},
   "outputs": [],
   "source": [
    "from torchvision import transforms\n",
    "def predict(inp):\n",
    "    image_transform = transforms.Compose([transforms.Resize(size=(224,224)), transforms.ToTensor()])\n",
    "    labels = ['cat', 'dog']\n",
    "    inp = image_transform(inp).unsqueeze(dim=0)\n",
    "    with torch.no_grad():\n",
    "        prediction = torch.nn.functional.softmax(model(inp))\n",
    "        confidences = {labels[i]: float(prediction.squeeze()[i]) for i in range(len(labels))}    \n",
    "    return confidences"
   ]
  },
  {
   "cell_type": "code",
   "execution_count": 4,
   "id": "62b6691d",
   "metadata": {
    "scrolled": true
   },
   "outputs": [
    {
     "name": "stdout",
     "output_type": "stream",
     "text": [
      "Running on local URL:  http://127.0.0.1:7860\n",
      "\n",
      "To create a public link, set `share=True` in `launch()`.\n"
     ]
    },
    {
     "data": {
      "text/html": [
       "<div><iframe src=\"http://127.0.0.1:7860/\" width=\"100%\" height=\"500\" allow=\"autoplay; camera; microphone; clipboard-read; clipboard-write;\" frameborder=\"0\" allowfullscreen></iframe></div>"
      ],
      "text/plain": [
       "<IPython.core.display.HTML object>"
      ]
     },
     "metadata": {},
     "output_type": "display_data"
    },
    {
     "data": {
      "text/plain": []
     },
     "execution_count": 4,
     "metadata": {},
     "output_type": "execute_result"
    },
    {
     "name": "stderr",
     "output_type": "stream",
     "text": [
      "C:\\Users\\lenovo\\anaconda3\\envs\\fastai\\lib\\site-packages\\ipykernel_launcher.py:7: UserWarning: Implicit dimension choice for softmax has been deprecated. Change the call to include dim=X as an argument.\n",
      "  import sys\n",
      "C:\\Users\\lenovo\\anaconda3\\envs\\fastai\\lib\\site-packages\\ipykernel_launcher.py:7: UserWarning: Implicit dimension choice for softmax has been deprecated. Change the call to include dim=X as an argument.\n",
      "  import sys\n",
      "C:\\Users\\lenovo\\anaconda3\\envs\\fastai\\lib\\site-packages\\ipykernel_launcher.py:7: UserWarning: Implicit dimension choice for softmax has been deprecated. Change the call to include dim=X as an argument.\n",
      "  import sys\n",
      "C:\\Users\\lenovo\\anaconda3\\envs\\fastai\\lib\\site-packages\\ipykernel_launcher.py:7: UserWarning: Implicit dimension choice for softmax has been deprecated. Change the call to include dim=X as an argument.\n",
      "  import sys\n",
      "C:\\Users\\lenovo\\anaconda3\\envs\\fastai\\lib\\site-packages\\ipykernel_launcher.py:7: UserWarning: Implicit dimension choice for softmax has been deprecated. Change the call to include dim=X as an argument.\n",
      "  import sys\n",
      "C:\\Users\\lenovo\\anaconda3\\envs\\fastai\\lib\\site-packages\\ipykernel_launcher.py:7: UserWarning: Implicit dimension choice for softmax has been deprecated. Change the call to include dim=X as an argument.\n",
      "  import sys\n",
      "C:\\Users\\lenovo\\anaconda3\\envs\\fastai\\lib\\site-packages\\ipykernel_launcher.py:7: UserWarning: Implicit dimension choice for softmax has been deprecated. Change the call to include dim=X as an argument.\n",
      "  import sys\n",
      "C:\\Users\\lenovo\\anaconda3\\envs\\fastai\\lib\\site-packages\\ipykernel_launcher.py:7: UserWarning: Implicit dimension choice for softmax has been deprecated. Change the call to include dim=X as an argument.\n",
      "  import sys\n",
      "C:\\Users\\lenovo\\anaconda3\\envs\\fastai\\lib\\site-packages\\ipykernel_launcher.py:7: UserWarning: Implicit dimension choice for softmax has been deprecated. Change the call to include dim=X as an argument.\n",
      "  import sys\n"
     ]
    }
   ],
   "source": [
    "import gradio as gr\n",
    "gr.Interface(fn=predict, \n",
    "             inputs=gr.Image(type=\"pil\"),\n",
    "             outputs=gr.Label(num_top_classes=2),\n",
    "             examples=['cat.jpg', 'dog.jpg']).launch()"
   ]
  },
  {
   "cell_type": "markdown",
   "id": "9d9b335a",
   "metadata": {},
   "source": [
    "- Thansk for reading 😀\n",
    "- Let's connect [YouTube](http://youtube.com/tirendazacademy) | [Medium](http://tirendazacademy.medium.com) | [Twitter](http://twitter.com/tirendazacademy) | [Instagram](https://www.instagram.com/tirendazacademy) | [GitHub](http://github.com/tirendazacademy) | [Linkedin](https://www.linkedin.com/in/tirendaz-academy) | [Kaggle](https://www.kaggle.com/tirendazacademy) 😎"
   ]
  }
 ],
 "metadata": {
  "kernelspec": {
   "display_name": "Python 3 (ipykernel)",
   "language": "python",
   "name": "python3"
  },
  "language_info": {
   "codemirror_mode": {
    "name": "ipython",
    "version": 3
   },
   "file_extension": ".py",
   "mimetype": "text/x-python",
   "name": "python",
   "nbconvert_exporter": "python",
   "pygments_lexer": "ipython3",
   "version": "3.7.11"
  }
 },
 "nbformat": 4,
 "nbformat_minor": 5
}
